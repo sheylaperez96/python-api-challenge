{
 "cells": [
  {
   "cell_type": "markdown",
   "metadata": {},
   "source": [
    "# WeatherPy\n",
    "----\n",
    "Observable Trends\n",
    "- In the northern hemisphere, as you move away from the equator, the temperature decreases. This is seen by the linear regression plot, which has an r-value of -0.66, indicating a moderate/strong negative correlation. \n",
    "- In the southern hemisphere, as you get closer to the equator, the temperatures increases. This is seen by the linear regression plot, which has an r-value of 0.77, indicating a moderate/strong positive correlation. \n",
    "- The correlation between latitude and temperature isn't perfect, as other factors such as elevation, ocean currents, and precipitation also affect climate patterns.\n",
    "- Based on the other linear regression plots, there is no correlation (r-value < 0.3) between:\n",
    "    - Latitude and Humidity %\n",
    "    - Latitude and Cloudiness %\n",
    "    - Latitude and Wind Speed"
   ]
  },
  {
   "cell_type": "code",
   "execution_count": 1,
   "metadata": {},
   "outputs": [],
   "source": [
    "# Dependencies and Setup\n",
    "import matplotlib.pyplot as plt\n",
    "import pandas as pd\n",
    "import numpy as np\n",
    "import requests\n",
    "import time # to space out the number of hits\n",
    "from scipy.stats import linregress\n",
    "from pprint import pprint \n",
    "from api_keys import weather_api_key\n",
    "\n",
    "# Incorporated citipy to determine city based on latitude and longitude\n",
    "from citipy import citipy\n",
    "\n",
    "# Output File (CSV)\n",
    "outputData = \"output_data/cities.csv\"\n",
    "\n",
    "# Range of latitudes and longitudes\n",
    "latRange = (-90, 90)\n",
    "lngRange = (-180, 180)"
   ]
  },
  {
   "cell_type": "markdown",
   "metadata": {},
   "source": [
    "## Generate Cities List"
   ]
  },
  {
   "cell_type": "code",
   "execution_count": 2,
   "metadata": {},
   "outputs": [
    {
     "data": {
      "text/plain": [
       "557"
      ]
     },
     "execution_count": 2,
     "metadata": {},
     "output_type": "execute_result"
    }
   ],
   "source": [
    "# List for holding lat_lngs and cities\n",
    "lat_lngs = []\n",
    "cities = []\n",
    "\n",
    "# Create a set of random lat and lng combinations\n",
    "lats = np.random.uniform(latRange[0], latRange[1], size=1500)\n",
    "lngs = np.random.uniform(lngRange[0], lngRange[1], size=1500)\n",
    "lat_lngs = zip(lats, lngs)\n",
    "\n",
    "# Identify nearest city for each lat, lng combination\n",
    "for lat_lng in lat_lngs:\n",
    "    city = citipy.nearest_city(lat_lng[0], lat_lng[1]).city_name\n",
    "    \n",
    "    # If the city is unique, then add it to a our cities list\n",
    "    if city not in cities:\n",
    "        cities.append(city)\n",
    "\n",
    "# Print the city count to confirm sufficient count\n",
    "len(cities)"
   ]
  },
  {
   "cell_type": "markdown",
   "metadata": {},
   "source": [
    "### Perform API Calls\n",
    "* Perform a weather check on each city using a series of successive API calls.\n",
    "* Include a print log of each city as it'sbeing processed (with the city number and city name).\n"
   ]
  },
  {
   "cell_type": "code",
   "execution_count": 3,
   "metadata": {},
   "outputs": [],
   "source": [
    "# Build base URL and variables\n",
    "url = \"http://api.openweathermap.org/data/2.5/weather?\"\n",
    "units = \"imperial\"\n",
    "api_key = weather_api_key"
   ]
  },
  {
   "cell_type": "code",
   "execution_count": 4,
   "metadata": {},
   "outputs": [
    {
     "name": "stdout",
     "output_type": "stream",
     "text": [
      "Beginning Data Retrieval\n",
      "-----------------------------\n",
      "Processing Record 1 of Set 1 | Qaanaaq\n",
      "Processing Record 2 of Set 1 | Souillac\n",
      "Processing Record 3 of Set 1 | Ushuaia\n",
      "Processing Record 4 of Set 1 | Adrar\n",
      "Processing Record 5 of Set 1 | Yārāda\n",
      "Processing Record 6 of Set 1 | Busselton\n",
      "Processing Record 7 of Set 1 | Dikson\n",
      "Processing Record 8 of Set 1 | Itaituba\n",
      "Processing Record 9 of Set 1 | Talnakh\n",
      "Processing Record 10 of Set 1 | Guerrero Negro\n",
      "Processing Record 11 of Set 1 | Akçakoca\n",
      "Processing Record 12 of Set 1 | Egvekinot\n",
      "Processing Record 13 of Set 1 | Khatanga\n",
      "Processing Record 14 of Set 1 | Lebu\n",
      "Processing Record 15 of Set 1 | Upernavik\n",
      "Processing Record 16 of Set 1 | Vila Viçosa\n",
      "City not found. Skipping...\n",
      "Processing Record 17 of Set 1 | Lotofaga\n",
      "City not found. Skipping...\n",
      "Processing Record 18 of Set 1 | Hirado\n",
      "Processing Record 19 of Set 1 | Victor Harbor\n",
      "Processing Record 20 of Set 1 | Mataura\n",
      "Processing Record 21 of Set 1 | Phang Nga\n",
      "Processing Record 22 of Set 1 | Kangaatsiaq\n",
      "Processing Record 23 of Set 1 | Hithadhoo\n",
      "Processing Record 24 of Set 1 | Klaksvík\n",
      "Processing Record 25 of Set 1 | Atuona\n",
      "Processing Record 26 of Set 1 | Sterling\n",
      "Processing Record 27 of Set 1 | Tuktoyaktuk\n",
      "Processing Record 28 of Set 1 | Rudnyy\n",
      "Processing Record 29 of Set 1 | Port Alfred\n",
      "Processing Record 30 of Set 1 | São Filipe\n",
      "Processing Record 31 of Set 1 | Bengkulu\n",
      "City not found. Skipping...\n",
      "City not found. Skipping...\n",
      "Processing Record 32 of Set 1 | Wasaga Beach\n",
      "Processing Record 33 of Set 1 | Namtsy\n",
      "Processing Record 34 of Set 1 | Springbok\n",
      "City not found. Skipping...\n",
      "Processing Record 35 of Set 1 | Rikitea\n",
      "Processing Record 36 of Set 1 | Ostrovnoy\n",
      "Processing Record 37 of Set 1 | Boende\n",
      "Processing Record 38 of Set 1 | Punta Arenas\n",
      "Processing Record 39 of Set 1 | Chokurdakh\n",
      "Processing Record 40 of Set 1 | Hobart\n",
      "Processing Record 41 of Set 1 | New Norfolk\n",
      "Processing Record 42 of Set 1 | Naze\n",
      "Processing Record 43 of Set 1 | Olafsvik\n",
      "Processing Record 44 of Set 1 | Redmond\n",
      "Processing Record 45 of Set 1 | Bluff\n",
      "Processing Record 46 of Set 1 | Port Hardy\n",
      "Processing Record 47 of Set 1 | Kapaa\n",
      "Processing Record 48 of Set 1 | Bandarbeyla\n",
      "Processing Record 49 of Set 1 | Nayoro\n",
      "Processing Record 50 of Set 1 | Puerto Ayora\n",
      "Processing Record 1 of Set 2 | Avarua\n",
      "Processing Record 2 of Set 2 | Aksu\n",
      "Processing Record 3 of Set 2 | Jamestown\n",
      "Processing Record 4 of Set 2 | Coquimbo\n",
      "Processing Record 5 of Set 2 | Geraldton\n",
      "Processing Record 6 of Set 2 | Pacific Grove\n",
      "Processing Record 7 of Set 2 | Magnor\n",
      "Processing Record 8 of Set 2 | Barrow\n",
      "Processing Record 9 of Set 2 | Vágur\n",
      "Processing Record 10 of Set 2 | Tigil'\n",
      "Processing Record 11 of Set 2 | Port Elizabeth\n",
      "Processing Record 12 of Set 2 | Arraial do Cabo\n",
      "Processing Record 13 of Set 2 | Santa Ana Arriba\n",
      "Processing Record 14 of Set 2 | Bredasdorp\n",
      "Processing Record 15 of Set 2 | Castro\n",
      "Processing Record 16 of Set 2 | Tasiilaq\n",
      "Processing Record 17 of Set 2 | Makushino\n",
      "Processing Record 18 of Set 2 | Walvis Bay\n",
      "Processing Record 19 of Set 2 | Hermanus\n",
      "Processing Record 20 of Set 2 | Cherskiy\n",
      "Processing Record 21 of Set 2 | Mokrous\n",
      "Processing Record 22 of Set 2 | Saint-Philippe\n",
      "Processing Record 23 of Set 2 | Lagoa\n",
      "Processing Record 24 of Set 2 | Narsaq\n",
      "Processing Record 25 of Set 2 | Butaritari\n",
      "Processing Record 26 of Set 2 | Cape Town\n",
      "Processing Record 27 of Set 2 | Pevek\n",
      "City not found. Skipping...\n",
      "Processing Record 28 of Set 2 | Kiryat Gat\n",
      "Processing Record 29 of Set 2 | Port Augusta\n",
      "Processing Record 30 of Set 2 | Tsiroanomandidy\n",
      "City not found. Skipping...\n",
      "Processing Record 31 of Set 2 | São Gabriel da Cachoeira\n",
      "City not found. Skipping...\n",
      "Processing Record 32 of Set 2 | Pangnirtung\n",
      "Processing Record 33 of Set 2 | Leningradskiy\n",
      "Processing Record 34 of Set 2 | Aktau\n",
      "Processing Record 35 of Set 2 | Tabuk\n",
      "Processing Record 36 of Set 2 | Ribeira Grande\n",
      "Processing Record 37 of Set 2 | Tromsø\n",
      "Processing Record 38 of Set 2 | Puerto El Triunfo\n",
      "Processing Record 39 of Set 2 | Alyangula\n",
      "Processing Record 40 of Set 2 | Airai\n",
      "City not found. Skipping...\n",
      "Processing Record 41 of Set 2 | Sheregesh\n",
      "Processing Record 42 of Set 2 | Shimoda\n",
      "Processing Record 43 of Set 2 | Richards Bay\n",
      "Processing Record 44 of Set 2 | Vanavara\n",
      "Processing Record 45 of Set 2 | Provideniya\n",
      "Processing Record 46 of Set 2 | Mariinsk\n",
      "Processing Record 47 of Set 2 | Riachão das Neves\n",
      "City not found. Skipping...\n",
      "Processing Record 48 of Set 2 | East London\n",
      "Processing Record 49 of Set 2 | Lata\n",
      "Processing Record 50 of Set 2 | Vaini\n",
      "Processing Record 1 of Set 3 | Pisco\n",
      "Processing Record 2 of Set 3 | Houma\n",
      "Processing Record 3 of Set 3 | Meadow Lake\n",
      "City not found. Skipping...\n",
      "Processing Record 4 of Set 3 | Batemans Bay\n",
      "Processing Record 5 of Set 3 | Thompson\n",
      "Processing Record 6 of Set 3 | Chui\n",
      "Processing Record 7 of Set 3 | Yellowknife\n",
      "Processing Record 8 of Set 3 | Kédougou\n",
      "Processing Record 9 of Set 3 | Vanimo\n",
      "Processing Record 10 of Set 3 | Kruisfontein\n",
      "Processing Record 11 of Set 3 | Freeport\n",
      "Processing Record 12 of Set 3 | Sibu\n",
      "Processing Record 13 of Set 3 | Zhigansk\n",
      "Processing Record 14 of Set 3 | Riviere-au-Renard\n",
      "Processing Record 15 of Set 3 | Katsuura\n",
      "Processing Record 16 of Set 3 | Ibrā’\n",
      "Processing Record 17 of Set 3 | Albany\n",
      "Processing Record 18 of Set 3 | Xaxim\n",
      "Processing Record 19 of Set 3 | Teotitlán\n",
      "Processing Record 20 of Set 3 | Ilulissat\n",
      "Processing Record 21 of Set 3 | Hilo\n",
      "Processing Record 22 of Set 3 | Atarra\n",
      "Processing Record 23 of Set 3 | Sioux Lookout\n",
      "City not found. Skipping...\n",
      "Processing Record 24 of Set 3 | Novikovo\n",
      "Processing Record 25 of Set 3 | Sola\n",
      "City not found. Skipping...\n",
      "Processing Record 26 of Set 3 | Praia\n",
      "Processing Record 27 of Set 3 | Taltal\n",
      "Processing Record 28 of Set 3 | Tiksi\n",
      "Processing Record 29 of Set 3 | Fairlie\n",
      "Processing Record 30 of Set 3 | Zyryanka\n",
      "Processing Record 31 of Set 3 | Kidal\n",
      "Processing Record 32 of Set 3 | Ancud\n",
      "Processing Record 33 of Set 3 | Moindou\n",
      "Processing Record 34 of Set 3 | Kinkala\n",
      "Processing Record 35 of Set 3 | Berdigestyakh\n",
      "Processing Record 36 of Set 3 | Balvi\n",
      "Processing Record 37 of Set 3 | Tanout\n",
      "Processing Record 38 of Set 3 | Mount Gambier\n",
      "Processing Record 39 of Set 3 | Grindavik\n",
      "Processing Record 40 of Set 3 | Bambous Virieux\n",
      "City not found. Skipping...\n",
      "Processing Record 41 of Set 3 | Nome\n",
      "Processing Record 42 of Set 3 | Praia\n",
      "City not found. Skipping...\n",
      "Processing Record 43 of Set 3 | Bethel\n",
      "Processing Record 44 of Set 3 | Saint Anthony\n",
      "Processing Record 45 of Set 3 | Saint Paul Harbor\n",
      "Processing Record 46 of Set 3 | Beringovskiy\n",
      "City not found. Skipping...\n",
      "City not found. Skipping...\n",
      "City not found. Skipping...\n",
      "Processing Record 47 of Set 3 | Broken Hill\n",
      "Processing Record 48 of Set 3 | Beidao\n",
      "Processing Record 49 of Set 3 | Mattru\n",
      "City not found. Skipping...\n",
      "Processing Record 50 of Set 3 | Saskylakh\n",
      "Processing Record 1 of Set 4 | Esso\n",
      "Processing Record 2 of Set 4 | Vila Franca do Campo\n",
      "Processing Record 3 of Set 4 | Pedernales\n",
      "Processing Record 4 of Set 4 | Nyurba\n",
      "Processing Record 5 of Set 4 | Geneva\n",
      "Processing Record 6 of Set 4 | Nanortalik\n",
      "Processing Record 7 of Set 4 | São Mateus\n",
      "Processing Record 8 of Set 4 | Mbekenyera\n",
      "Processing Record 9 of Set 4 | Muscat\n",
      "Processing Record 10 of Set 4 | Hong Kong\n",
      "Processing Record 11 of Set 4 | Krasnogorsk\n",
      "Processing Record 12 of Set 4 | Raymondville\n",
      "Processing Record 13 of Set 4 | Zhicheng\n",
      "Processing Record 14 of Set 4 | Sakakah\n",
      "Processing Record 15 of Set 4 | Şabyā\n",
      "Processing Record 16 of Set 4 | Shingū\n",
      "Processing Record 17 of Set 4 | Longyearbyen\n",
      "City not found. Skipping...\n",
      "Processing Record 18 of Set 4 | Almaznyy\n",
      "Processing Record 19 of Set 4 | Tsimmerbude\n",
      "City not found. Skipping...\n",
      "Processing Record 20 of Set 4 | Negotino\n",
      "Processing Record 21 of Set 4 | San Ignacio\n",
      "Processing Record 22 of Set 4 | Carnarvon\n",
      "Processing Record 23 of Set 4 | Mar del Plata\n",
      "Processing Record 24 of Set 4 | Biltine\n",
      "Processing Record 25 of Set 4 | Lompoc\n",
      "Processing Record 26 of Set 4 | Qaqortoq\n",
      "Processing Record 27 of Set 4 | South Venice\n",
      "Processing Record 28 of Set 4 | Nakhon Sawan\n",
      "Processing Record 29 of Set 4 | Kropotkin\n",
      "Processing Record 30 of Set 4 | Orlik\n",
      "Processing Record 31 of Set 4 | Marawi\n",
      "Processing Record 32 of Set 4 | Vao\n",
      "Processing Record 33 of Set 4 | Dickinson\n"
     ]
    },
    {
     "name": "stdout",
     "output_type": "stream",
     "text": [
      "Processing Record 34 of Set 4 | Kirundo Province\n",
      "Processing Record 35 of Set 4 | São João da Barra\n",
      "Processing Record 36 of Set 4 | Biloela\n",
      "Processing Record 37 of Set 4 | Esperance\n",
      "Processing Record 38 of Set 4 | Vuktyl\n",
      "Processing Record 39 of Set 4 | Santa Cruz de La Palma\n",
      "Processing Record 40 of Set 4 | Gorlice\n",
      "Processing Record 41 of Set 4 | Iqaluit\n",
      "Processing Record 42 of Set 4 | Nara\n",
      "Processing Record 43 of Set 4 | Sungai Raya\n",
      "Processing Record 44 of Set 4 | Sept-Îles\n",
      "Processing Record 45 of Set 4 | Spearfish\n",
      "Processing Record 46 of Set 4 | Lianran\n",
      "Processing Record 47 of Set 4 | Westport\n",
      "Processing Record 48 of Set 4 | Mahébourg\n",
      "Processing Record 49 of Set 4 | Palmer\n",
      "Processing Record 50 of Set 4 | General Roca\n",
      "Processing Record 1 of Set 5 | San Angelo\n",
      "Processing Record 2 of Set 5 | Nikolskoye\n",
      "Processing Record 3 of Set 5 | Mahon\n",
      "Processing Record 4 of Set 5 | Yumen\n",
      "Processing Record 5 of Set 5 | Kaitangata\n",
      "Processing Record 6 of Set 5 | Wakkanai\n",
      "Processing Record 7 of Set 5 | Caconda\n",
      "Processing Record 8 of Set 5 | Dali\n",
      "Processing Record 9 of Set 5 | Channel-Port aux Basques\n",
      "Processing Record 10 of Set 5 | Codrington\n",
      "Processing Record 11 of Set 5 | Sfântu Gheorghe\n",
      "Processing Record 12 of Set 5 | Saldanha\n",
      "Processing Record 13 of Set 5 | Padang\n",
      "City not found. Skipping...\n",
      "Processing Record 14 of Set 5 | Mossamedes\n",
      "Processing Record 15 of Set 5 | Clyde River\n",
      "Processing Record 16 of Set 5 | Acapulco de Juárez\n",
      "Processing Record 17 of Set 5 | Øksfjord\n",
      "Processing Record 18 of Set 5 | Port Macquarie\n",
      "Processing Record 19 of Set 5 | Sergeevka\n",
      "City not found. Skipping...\n",
      "Processing Record 20 of Set 5 | Saint George\n",
      "Processing Record 21 of Set 5 | George Town\n",
      "Processing Record 22 of Set 5 | Aranos\n",
      "Processing Record 23 of Set 5 | Torbay\n",
      "Processing Record 24 of Set 5 | Nanpiao\n",
      "Processing Record 25 of Set 5 | Yulara\n",
      "Processing Record 26 of Set 5 | Lavrentiya\n",
      "Processing Record 27 of Set 5 | Cidreira\n",
      "Processing Record 28 of Set 5 | Luwuk\n",
      "Processing Record 29 of Set 5 | Puerto Peñasco\n",
      "Processing Record 30 of Set 5 | Awjilah\n",
      "Processing Record 31 of Set 5 | Erbil\n",
      "Processing Record 32 of Set 5 | Benjamín Hill\n",
      "Processing Record 33 of Set 5 | Dhidhdhoo\n",
      "Processing Record 34 of Set 5 | Tessalit\n",
      "Processing Record 35 of Set 5 | Oussouye\n",
      "Processing Record 36 of Set 5 | Namatanai\n",
      "Processing Record 37 of Set 5 | São José da Coroa Grande\n",
      "Processing Record 38 of Set 5 | Nelson Bay\n",
      "City not found. Skipping...\n",
      "Processing Record 39 of Set 5 | Kungurtug\n",
      "Processing Record 40 of Set 5 | Antofagasta\n",
      "Processing Record 41 of Set 5 | Yerbogachën\n",
      "Processing Record 42 of Set 5 | Dunedin\n",
      "Processing Record 43 of Set 5 | Sakaiminato\n",
      "Processing Record 44 of Set 5 | Bentiu\n",
      "Processing Record 45 of Set 5 | Norman Wells\n",
      "Processing Record 46 of Set 5 | Gushikawa\n",
      "Processing Record 47 of Set 5 | Sangar\n",
      "Processing Record 48 of Set 5 | Dāmghān\n",
      "Processing Record 49 of Set 5 | San Juan Bautista\n",
      "Processing Record 50 of Set 5 | Salalah\n",
      "Processing Record 1 of Set 6 | Lorengau\n",
      "City not found. Skipping...\n",
      "Processing Record 2 of Set 6 | Kavieng\n",
      "City not found. Skipping...\n",
      "Processing Record 3 of Set 6 | Savannah Bight\n",
      "Processing Record 4 of Set 6 | Zeya\n",
      "Processing Record 5 of Set 6 | Broome\n",
      "Processing Record 6 of Set 6 | Severo-Kuril'sk\n",
      "Processing Record 7 of Set 6 | Aksha\n",
      "Processing Record 8 of Set 6 | Līgatne\n",
      "Processing Record 9 of Set 6 | Asău\n",
      "Processing Record 10 of Set 6 | Natal\n",
      "Processing Record 11 of Set 6 | Najrān\n",
      "Processing Record 12 of Set 6 | Carhuamayo\n",
      "Processing Record 13 of Set 6 | Dingle\n",
      "Processing Record 14 of Set 6 | Moïssala\n",
      "Processing Record 15 of Set 6 | Malakal\n",
      "Processing Record 16 of Set 6 | Usinsk\n",
      "Processing Record 17 of Set 6 | Sittwe\n",
      "Processing Record 18 of Set 6 | Kumul\n",
      "Processing Record 19 of Set 6 | Canary Islands\n",
      "Processing Record 20 of Set 6 | Ariquemes\n",
      "Processing Record 21 of Set 6 | Tarko-Sale\n",
      "City not found. Skipping...\n",
      "Processing Record 22 of Set 6 | Hasaki\n",
      "Processing Record 23 of Set 6 | Farafangana\n",
      "Processing Record 24 of Set 6 | Ust-Kuyga\n",
      "Processing Record 25 of Set 6 | Burgeo\n",
      "Processing Record 26 of Set 6 | Sørland\n",
      "City not found. Skipping...\n",
      "Processing Record 27 of Set 6 | Rome\n",
      "Processing Record 28 of Set 6 | Tautira\n",
      "Processing Record 29 of Set 6 | Las Vegas\n",
      "Processing Record 30 of Set 6 | Casa Quemada\n",
      "Processing Record 31 of Set 6 | Carutapera\n",
      "Processing Record 32 of Set 6 | Faanui\n",
      "Processing Record 33 of Set 6 | Kolomak\n",
      "Processing Record 34 of Set 6 | Paamiut\n",
      "Processing Record 35 of Set 6 | Solnechnyy\n",
      "Processing Record 36 of Set 6 | Nishihara\n",
      "Processing Record 37 of Set 6 | Emerald\n",
      "Processing Record 38 of Set 6 | Kota Kinabalu\n",
      "Processing Record 39 of Set 6 | Hobyo\n",
      "Processing Record 40 of Set 6 | Calama\n",
      "Processing Record 41 of Set 6 | Nantucket\n",
      "Processing Record 42 of Set 6 | Grand-Santi\n",
      "Processing Record 43 of Set 6 | Kundla\n",
      "Processing Record 44 of Set 6 | Bac Lieu\n",
      "Processing Record 45 of Set 6 | Gijang\n",
      "Processing Record 46 of Set 6 | Petropavlovsk-Kamchatskiy\n",
      "Processing Record 47 of Set 6 | Itoman\n",
      "Processing Record 48 of Set 6 | Port Lincoln\n",
      "Processing Record 49 of Set 6 | Ahipara\n",
      "City not found. Skipping...\n",
      "Processing Record 50 of Set 6 | Prince Rupert\n",
      "Processing Record 1 of Set 7 | Hervey Bay\n",
      "Processing Record 2 of Set 7 | San Patricio\n",
      "City not found. Skipping...\n",
      "Processing Record 3 of Set 7 | Fortuna\n",
      "Processing Record 4 of Set 7 | Clevelândia\n",
      "Processing Record 5 of Set 7 | Batticaloa\n",
      "Processing Record 6 of Set 7 | Bhūm\n",
      "Processing Record 7 of Set 7 | Ilebo\n",
      "Processing Record 8 of Set 7 | Husavik\n",
      "City not found. Skipping...\n",
      "Processing Record 9 of Set 7 | Palana\n",
      "Processing Record 10 of Set 7 | Quryq\n",
      "Processing Record 11 of Set 7 | Riihimäki\n",
      "Processing Record 12 of Set 7 | Bubaque\n",
      "Processing Record 13 of Set 7 | Touros\n",
      "Processing Record 14 of Set 7 | Auki\n",
      "Processing Record 15 of Set 7 | Piaçabuçu\n",
      "Processing Record 16 of Set 7 | Mamlyutka\n",
      "Processing Record 17 of Set 7 | Viedma\n",
      "City not found. Skipping...\n",
      "Processing Record 18 of Set 7 | Hamilton\n",
      "Processing Record 19 of Set 7 | Zomin\n",
      "Processing Record 20 of Set 7 | Tha Mai\n",
      "Processing Record 21 of Set 7 | Colombo\n",
      "Processing Record 22 of Set 7 | Quatre Cocos\n",
      "Processing Record 23 of Set 7 | Lormont\n",
      "Processing Record 24 of Set 7 | Göksun\n",
      "Processing Record 25 of Set 7 | Luangwa\n",
      "Processing Record 26 of Set 7 | Makkah al Mukarramah\n",
      "Processing Record 27 of Set 7 | Honiara\n",
      "City not found. Skipping...\n",
      "Processing Record 28 of Set 7 | Laguna\n",
      "Processing Record 29 of Set 7 | Niquero\n",
      "Processing Record 30 of Set 7 | Salinópolis\n",
      "Processing Record 31 of Set 7 | Belomorsk\n",
      "Processing Record 32 of Set 7 | Suntar\n",
      "Processing Record 33 of Set 7 | Campechuela\n",
      "Processing Record 34 of Set 7 | Laminusa\n",
      "Processing Record 35 of Set 7 | Marabu\n",
      "Processing Record 36 of Set 7 | Stuttgart\n",
      "Processing Record 37 of Set 7 | Sibolga\n",
      "Processing Record 38 of Set 7 | Karratha\n",
      "City not found. Skipping...\n",
      "Processing Record 39 of Set 7 | Talara\n",
      "Processing Record 40 of Set 7 | Dubréka\n",
      "Processing Record 41 of Set 7 | Eydhafushi\n",
      "Processing Record 42 of Set 7 | Azángaro\n",
      "Processing Record 43 of Set 7 | Ketchikan\n",
      "Processing Record 44 of Set 7 | Rāmhormoz\n",
      "Processing Record 45 of Set 7 | Cabo San Lucas\n",
      "Processing Record 46 of Set 7 | Teya\n",
      "Processing Record 47 of Set 7 | Divo\n",
      "Processing Record 48 of Set 7 | Healesville\n",
      "Processing Record 49 of Set 7 | Kyabram\n",
      "Processing Record 50 of Set 7 | Malbork\n",
      "Processing Record 1 of Set 8 | Kisangani\n",
      "Processing Record 2 of Set 8 | Ibiá\n",
      "Processing Record 3 of Set 8 | Tommot\n",
      "Processing Record 4 of Set 8 | Kamaishi\n",
      "Processing Record 5 of Set 8 | Sarana\n",
      "Processing Record 6 of Set 8 | Aykhal\n",
      "Processing Record 7 of Set 8 | Corcoran\n",
      "Processing Record 8 of Set 8 | Puerto del Rosario\n",
      "Processing Record 9 of Set 8 | Portland\n",
      "Processing Record 10 of Set 8 | Thaba-Tseka\n",
      "City not found. Skipping...\n",
      "Processing Record 11 of Set 8 | Bentonville\n",
      "Processing Record 12 of Set 8 | Bereda\n",
      "Processing Record 13 of Set 8 | Guozhen\n",
      "Processing Record 14 of Set 8 | Nioro\n",
      "Processing Record 15 of Set 8 | Visby\n",
      "Processing Record 16 of Set 8 | Fort Nelson\n",
      "City not found. Skipping...\n",
      "Processing Record 17 of Set 8 | Zalţan\n",
      "Processing Record 18 of Set 8 | Kitimat\n",
      "Processing Record 19 of Set 8 | Khasan\n",
      "Processing Record 20 of Set 8 | Vila Velha\n",
      "Processing Record 21 of Set 8 | Port Pirie\n"
     ]
    },
    {
     "name": "stdout",
     "output_type": "stream",
     "text": [
      "Processing Record 22 of Set 8 | Maltahöhe\n",
      "Processing Record 23 of Set 8 | Atambua\n",
      "Processing Record 24 of Set 8 | Buford\n",
      "Processing Record 25 of Set 8 | Kailua\n",
      "Processing Record 26 of Set 8 | Longyan\n",
      "Processing Record 27 of Set 8 | Mayo\n",
      "Processing Record 28 of Set 8 | Caranavi\n",
      "Processing Record 29 of Set 8 | Leninsk\n",
      "City not found. Skipping...\n",
      "City not found. Skipping...\n",
      "Processing Record 30 of Set 8 | Cururupu\n",
      "Processing Record 31 of Set 8 | Port-Gentil\n",
      "Processing Record 32 of Set 8 | Nobres\n",
      "Processing Record 33 of Set 8 | Shubarkuduk\n",
      "Processing Record 34 of Set 8 | Nimāparha\n",
      "City not found. Skipping...\n",
      "Processing Record 35 of Set 8 | Tuatapere\n",
      "Processing Record 36 of Set 8 | Marystown\n",
      "Processing Record 37 of Set 8 | Mkushi\n",
      "Processing Record 38 of Set 8 | Kerema\n",
      "Processing Record 39 of Set 8 | Karasjok\n",
      "Processing Record 40 of Set 8 | Cayenne\n",
      "Processing Record 41 of Set 8 | Erdenet\n",
      "Processing Record 42 of Set 8 | Salisbury\n",
      "Processing Record 43 of Set 8 | Poum\n",
      "Processing Record 44 of Set 8 | Toucheng\n",
      "Processing Record 45 of Set 8 | Deputatsky\n",
      "Processing Record 46 of Set 8 | Mehamn\n",
      "Processing Record 47 of Set 8 | Ponta Delgada\n",
      "Processing Record 48 of Set 8 | Río Gallegos\n",
      "City not found. Skipping...\n",
      "Processing Record 49 of Set 8 | Trincomalee\n",
      "Processing Record 50 of Set 8 | Ponta do Sol\n",
      "Processing Record 1 of Set 9 | Bairiki Village\n",
      "Processing Record 2 of Set 9 | Dashitou\n",
      "Processing Record 3 of Set 9 | Varkaus\n",
      "City not found. Skipping...\n",
      "Processing Record 4 of Set 9 | Juchitlán\n",
      "City not found. Skipping...\n",
      "Processing Record 5 of Set 9 | Honningsvåg\n",
      "Processing Record 6 of Set 9 | Misratah\n",
      "Processing Record 7 of Set 9 | Yar-Sale\n",
      "Processing Record 8 of Set 9 | Maragogi\n",
      "Processing Record 9 of Set 9 | Fairbanks\n",
      "Processing Record 10 of Set 9 | Bose\n",
      "Processing Record 11 of Set 9 | Vestmanna\n",
      "Processing Record 12 of Set 9 | Gouré\n",
      "Processing Record 13 of Set 9 | Catherinas Lust\n",
      "Processing Record 14 of Set 9 | Kysyl-Syr\n",
      "Processing Record 15 of Set 9 | Kjøllefjord\n",
      "City not found. Skipping...\n",
      "Processing Record 16 of Set 9 | Abbeville\n",
      "Processing Record 17 of Set 9 | Chengde\n",
      "Processing Record 18 of Set 9 | Ndola\n",
      "Processing Record 19 of Set 9 | Gorin\n",
      "Processing Record 20 of Set 9 | Tilichiki\n",
      "Processing Record 21 of Set 9 | Merauke\n",
      "Processing Record 22 of Set 9 | Mwene-Ditu\n",
      "Processing Record 23 of Set 9 | Keti Bandar\n",
      "Processing Record 24 of Set 9 | Sassandra\n",
      "Processing Record 25 of Set 9 | Sitka\n",
      "Processing Record 26 of Set 9 | Praia da Vitória\n",
      "Processing Record 27 of Set 9 | Lüderitz\n",
      "Processing Record 28 of Set 9 | Séguéla\n",
      "Processing Record 29 of Set 9 | Savinka\n",
      "Processing Record 30 of Set 9 | Dalbandin\n",
      "Processing Record 31 of Set 9 | Udachny\n",
      "City not found. Skipping...\n",
      "City not found. Skipping...\n",
      "Processing Record 32 of Set 9 | Riyadh\n",
      "Processing Record 33 of Set 9 | Taoudenni\n",
      "City not found. Skipping...\n",
      "Processing Record 34 of Set 9 | Isla Vista\n",
      "Processing Record 35 of Set 9 | Liuhe\n",
      "Processing Record 36 of Set 9 | Jalu\n",
      "Processing Record 37 of Set 9 | Yarmouth\n",
      "Processing Record 38 of Set 9 | Stanislav\n",
      "Processing Record 39 of Set 9 | Pochutla\n",
      "Processing Record 40 of Set 9 | Alofi\n",
      "Processing Record 41 of Set 9 | Kitui\n",
      "Processing Record 42 of Set 9 | Sabinópolis\n",
      "Processing Record 43 of Set 9 | Opuwo\n",
      "Processing Record 44 of Set 9 | Santo Domingo\n",
      "Processing Record 45 of Set 9 | Waitati\n",
      "Processing Record 46 of Set 9 | Arrondissement de Lorient\n",
      "Processing Record 47 of Set 9 | Manoel Urbano\n",
      "Processing Record 48 of Set 9 | Rudraprayāg\n",
      "Processing Record 49 of Set 9 | Sabang\n",
      "Processing Record 50 of Set 9 | Sayula\n",
      "Processing Record 1 of Set 10 | Simao\n",
      "Processing Record 2 of Set 10 | Dillon\n",
      "Processing Record 3 of Set 10 | Jacareacanga\n",
      "Processing Record 4 of Set 10 | Mazatlán\n",
      "Processing Record 5 of Set 10 | Kabanjahe\n",
      "Processing Record 6 of Set 10 | Yanji\n",
      "Processing Record 7 of Set 10 | Gizo Government Station\n",
      "Processing Record 8 of Set 10 | Ayan\n",
      "Processing Record 9 of Set 10 | Aklavik\n",
      "Processing Record 10 of Set 10 | Tucupita\n",
      "Processing Record 11 of Set 10 | Gävle\n",
      "Processing Record 12 of Set 10 | Margate\n",
      "Processing Record 13 of Set 10 | Andenes\n",
      "Processing Record 14 of Set 10 | Cairns\n",
      "Processing Record 15 of Set 10 | Te Horo\n",
      "Processing Record 16 of Set 10 | Kilindoni\n",
      "Processing Record 17 of Set 10 | Terra Rica\n",
      "Processing Record 18 of Set 10 | Mananjary\n",
      "Processing Record 19 of Set 10 | Atbasar\n",
      "Processing Record 20 of Set 10 | Ransang\n",
      "Processing Record 21 of Set 10 | Ballina\n",
      "Processing Record 22 of Set 10 | Plettenberg Bay\n",
      "Processing Record 23 of Set 10 | Belyy Yar\n",
      "Processing Record 24 of Set 10 | Beisfjord\n",
      "Processing Record 25 of Set 10 | Coahuayana Viejo\n",
      "Processing Record 26 of Set 10 | Katherine\n",
      "Processing Record 27 of Set 10 | Ziro\n",
      "Processing Record 28 of Set 10 | Gōdo\n",
      "Processing Record 29 of Set 10 | Kieta\n",
      "City not found. Skipping...\n",
      "Processing Record 30 of Set 10 | Salamiyah\n",
      "Processing Record 31 of Set 10 | Merrill\n",
      "Processing Record 32 of Set 10 | Hakui\n",
      "City not found. Skipping...\n",
      "Processing Record 33 of Set 10 | Requena\n",
      "Processing Record 34 of Set 10 | Fare\n",
      "Processing Record 35 of Set 10 | Pudozh\n",
      "Processing Record 36 of Set 10 | Rocha\n",
      "Processing Record 37 of Set 10 | Takhtamygda\n",
      "Processing Record 38 of Set 10 | Weligama\n",
      "Processing Record 39 of Set 10 | Vardø\n",
      "Processing Record 40 of Set 10 | Bathsheba\n",
      "Processing Record 41 of Set 10 | Tonstad\n",
      "Processing Record 42 of Set 10 | Rawson\n",
      "Processing Record 43 of Set 10 | Manuk Mangkaw\n",
      "City not found. Skipping...\n",
      "Processing Record 44 of Set 10 | Barreirinhas\n",
      "Processing Record 45 of Set 10 | Taganak\n",
      "Processing Record 46 of Set 10 | Sol'-Iletsk\n",
      "Processing Record 47 of Set 10 | Beira\n",
      "Processing Record 48 of Set 10 | Bonavista\n",
      "Processing Record 49 of Set 10 | San Cristobal\n",
      "Processing Record 50 of Set 10 | Eureka\n",
      "Processing Record 1 of Set 11 | Verkhnyaya Inta\n",
      "Processing Record 2 of Set 11 | Sun Valley\n",
      "Processing Record 3 of Set 11 | Cascais\n",
      "Processing Record 4 of Set 11 | Nuevo Progreso\n",
      "Processing Record 5 of Set 11 | Sal Rei\n",
      "Processing Record 6 of Set 11 | Jiaojiang\n",
      "Processing Record 7 of Set 11 | Ozinki\n",
      "Processing Record 8 of Set 11 | Saint-Pierre\n",
      "-----------------------------\n",
      "Data Retrieval Complete\n",
      "-----------------------------\n"
     ]
    }
   ],
   "source": [
    "# get valid cities\n",
    "validCities = []\n",
    "\n",
    "# set records and sets (initialize to 1)\n",
    "records = 1\n",
    "sets = 1\n",
    "\n",
    "print(\"Beginning Data Retrieval\")\n",
    "print(\"-----------------------------\")\n",
    "\n",
    "for city in cities:\n",
    "    # Build URL and get Weather Data \n",
    "    queryURL = f\"{url}appid={api_key}&units={units}&q={city}\"\n",
    "    response = requests.get(queryURL).json()\n",
    "    \n",
    "    # append valid cities to the validCities list\n",
    "    try:\n",
    "        validCities.append(response['name'])                \n",
    "        print(f\"Processing Record {records} of Set {sets} | {response['name']}\")\n",
    "        \n",
    "    except:\n",
    "        print(f\"City not found. Skipping...\")\n",
    "        records = records - 1\n",
    "        \n",
    "    records = records + 1\n",
    "    if records > 50:\n",
    "        records = 1\n",
    "        sets = sets + 1 \n",
    "    \n",
    "    # add a one second interval between queries to stay within API query limits\n",
    "    time.sleep(1)\n",
    "\n",
    "print(\"-----------------------------\")        \n",
    "print(\"Data Retrieval Complete\")\n",
    "print(\"-----------------------------\")"
   ]
  },
  {
   "cell_type": "code",
   "execution_count": 5,
   "metadata": {},
   "outputs": [
    {
     "data": {
      "text/plain": [
       "508"
      ]
     },
     "execution_count": 5,
     "metadata": {},
     "output_type": "execute_result"
    }
   ],
   "source": [
    "len(validCities)"
   ]
  },
  {
   "cell_type": "code",
   "execution_count": 6,
   "metadata": {},
   "outputs": [],
   "source": [
    "# Empty lists \n",
    "latitudes = []\n",
    "longitudes = []\n",
    "maxTemps = []\n",
    "humidity = []\n",
    "cloudiness = []\n",
    "windSpeed = []\n",
    "country = []\n",
    "date = []\n",
    "\n",
    "# loop through the cities and grab the information needed for the lists\n",
    "for city in validCities:\n",
    "    queryURL = f\"{url}appid={api_key}&units={units}&q={city}\"\n",
    "    # Get weather data\n",
    "    response = requests.get(queryURL).json()\n",
    "   \n",
    "    #add the info to the lists\n",
    "    latitudes.append(response[\"coord\"][\"lat\"])\n",
    "    longitudes.append(response[\"coord\"][\"lon\"])\n",
    "    maxTemps.append(response[\"main\"][\"temp_max\"])\n",
    "    humidity.append(response[\"main\"][\"humidity\"])\n",
    "    cloudiness.append(response['clouds']['all'])\n",
    "    windSpeed.append(response[\"wind\"][\"speed\"])\n",
    "    country.append(response[\"sys\"][\"country\"])\n",
    "    date.append(response[\"dt\"])"
   ]
  },
  {
   "cell_type": "markdown",
   "metadata": {},
   "source": [
    "### Convert Raw Data to DataFrame\n",
    "* Export the city data into a .csv.\n",
    "* Display the DataFrame"
   ]
  },
  {
   "cell_type": "code",
   "execution_count": 7,
   "metadata": {},
   "outputs": [
    {
     "data": {
      "text/html": [
       "<div>\n",
       "<style scoped>\n",
       "    .dataframe tbody tr th:only-of-type {\n",
       "        vertical-align: middle;\n",
       "    }\n",
       "\n",
       "    .dataframe tbody tr th {\n",
       "        vertical-align: top;\n",
       "    }\n",
       "\n",
       "    .dataframe thead th {\n",
       "        text-align: right;\n",
       "    }\n",
       "</style>\n",
       "<table border=\"1\" class=\"dataframe\">\n",
       "  <thead>\n",
       "    <tr style=\"text-align: right;\">\n",
       "      <th></th>\n",
       "      <th>City</th>\n",
       "      <th>Lat</th>\n",
       "      <th>Lng</th>\n",
       "      <th>Max Temp</th>\n",
       "      <th>Humidity</th>\n",
       "      <th>Cloudiness</th>\n",
       "      <th>Wind Speed</th>\n",
       "      <th>Country</th>\n",
       "      <th>Date</th>\n",
       "    </tr>\n",
       "  </thead>\n",
       "  <tbody>\n",
       "    <tr>\n",
       "      <th>0</th>\n",
       "      <td>Qaanaaq</td>\n",
       "      <td>77.4840</td>\n",
       "      <td>-69.3632</td>\n",
       "      <td>40.55</td>\n",
       "      <td>92</td>\n",
       "      <td>100</td>\n",
       "      <td>0.38</td>\n",
       "      <td>GL</td>\n",
       "      <td>1658709538</td>\n",
       "    </tr>\n",
       "    <tr>\n",
       "      <th>1</th>\n",
       "      <td>Souillac</td>\n",
       "      <td>-20.5167</td>\n",
       "      <td>57.5167</td>\n",
       "      <td>66.60</td>\n",
       "      <td>84</td>\n",
       "      <td>38</td>\n",
       "      <td>7.07</td>\n",
       "      <td>MU</td>\n",
       "      <td>1658709538</td>\n",
       "    </tr>\n",
       "    <tr>\n",
       "      <th>2</th>\n",
       "      <td>Ushuaia</td>\n",
       "      <td>-54.8000</td>\n",
       "      <td>-68.3000</td>\n",
       "      <td>35.26</td>\n",
       "      <td>64</td>\n",
       "      <td>40</td>\n",
       "      <td>5.75</td>\n",
       "      <td>AR</td>\n",
       "      <td>1658709528</td>\n",
       "    </tr>\n",
       "    <tr>\n",
       "      <th>3</th>\n",
       "      <td>Adrar</td>\n",
       "      <td>20.5022</td>\n",
       "      <td>-10.0711</td>\n",
       "      <td>95.61</td>\n",
       "      <td>7</td>\n",
       "      <td>5</td>\n",
       "      <td>10.13</td>\n",
       "      <td>MR</td>\n",
       "      <td>1658709539</td>\n",
       "    </tr>\n",
       "    <tr>\n",
       "      <th>4</th>\n",
       "      <td>Yārāda</td>\n",
       "      <td>17.6500</td>\n",
       "      <td>83.2667</td>\n",
       "      <td>77.32</td>\n",
       "      <td>100</td>\n",
       "      <td>40</td>\n",
       "      <td>2.30</td>\n",
       "      <td>IN</td>\n",
       "      <td>1658709539</td>\n",
       "    </tr>\n",
       "  </tbody>\n",
       "</table>\n",
       "</div>"
      ],
      "text/plain": [
       "       City      Lat      Lng  Max Temp  Humidity  Cloudiness  Wind Speed  \\\n",
       "0   Qaanaaq  77.4840 -69.3632     40.55        92         100        0.38   \n",
       "1  Souillac -20.5167  57.5167     66.60        84          38        7.07   \n",
       "2   Ushuaia -54.8000 -68.3000     35.26        64          40        5.75   \n",
       "3     Adrar  20.5022 -10.0711     95.61         7           5       10.13   \n",
       "4    Yārāda  17.6500  83.2667     77.32       100          40        2.30   \n",
       "\n",
       "  Country        Date  \n",
       "0      GL  1658709538  \n",
       "1      MU  1658709538  \n",
       "2      AR  1658709528  \n",
       "3      MR  1658709539  \n",
       "4      IN  1658709539  "
      ]
     },
     "execution_count": 7,
     "metadata": {},
     "output_type": "execute_result"
    }
   ],
   "source": [
    "weatherDictionary = {\n",
    "    \"City\": validCities,\n",
    "    \"Lat\": latitudes,\n",
    "    \"Lng\": longitudes,\n",
    "    \"Max Temp\": maxTemps,\n",
    "    \"Humidity\": humidity, \n",
    "    \"Cloudiness\": cloudiness,\n",
    "    \"Wind Speed\": windSpeed,\n",
    "    \"Country\": country, \n",
    "    \"Date\": date\n",
    "}\n",
    "\n",
    "weatherDF = pd.DataFrame(weatherDictionary)\n",
    "weatherDF.head(5)"
   ]
  },
  {
   "cell_type": "code",
   "execution_count": 8,
   "metadata": {},
   "outputs": [],
   "source": [
    "weatherDF.to_csv(\"outputData/WeatherData.csv\", index=False)"
   ]
  },
  {
   "cell_type": "code",
   "execution_count": 9,
   "metadata": {},
   "outputs": [
    {
     "data": {
      "text/html": [
       "<div>\n",
       "<style scoped>\n",
       "    .dataframe tbody tr th:only-of-type {\n",
       "        vertical-align: middle;\n",
       "    }\n",
       "\n",
       "    .dataframe tbody tr th {\n",
       "        vertical-align: top;\n",
       "    }\n",
       "\n",
       "    .dataframe thead th {\n",
       "        text-align: right;\n",
       "    }\n",
       "</style>\n",
       "<table border=\"1\" class=\"dataframe\">\n",
       "  <thead>\n",
       "    <tr style=\"text-align: right;\">\n",
       "      <th></th>\n",
       "      <th>Lat</th>\n",
       "      <th>Lng</th>\n",
       "      <th>Max Temp</th>\n",
       "      <th>Humidity</th>\n",
       "      <th>Cloudiness</th>\n",
       "      <th>Wind Speed</th>\n",
       "      <th>Date</th>\n",
       "    </tr>\n",
       "  </thead>\n",
       "  <tbody>\n",
       "    <tr>\n",
       "      <th>count</th>\n",
       "      <td>508.000000</td>\n",
       "      <td>508.000000</td>\n",
       "      <td>508.000000</td>\n",
       "      <td>508.000000</td>\n",
       "      <td>508.000000</td>\n",
       "      <td>508.000000</td>\n",
       "      <td>5.080000e+02</td>\n",
       "    </tr>\n",
       "    <tr>\n",
       "      <th>mean</th>\n",
       "      <td>21.150910</td>\n",
       "      <td>21.511625</td>\n",
       "      <td>69.373346</td>\n",
       "      <td>73.521654</td>\n",
       "      <td>54.625984</td>\n",
       "      <td>7.363248</td>\n",
       "      <td>1.658709e+09</td>\n",
       "    </tr>\n",
       "    <tr>\n",
       "      <th>std</th>\n",
       "      <td>33.678352</td>\n",
       "      <td>92.157883</td>\n",
       "      <td>14.178368</td>\n",
       "      <td>19.286011</td>\n",
       "      <td>40.454444</td>\n",
       "      <td>5.168524</td>\n",
       "      <td>2.144215e+02</td>\n",
       "    </tr>\n",
       "    <tr>\n",
       "      <th>min</th>\n",
       "      <td>-54.800000</td>\n",
       "      <td>-179.166700</td>\n",
       "      <td>26.650000</td>\n",
       "      <td>1.000000</td>\n",
       "      <td>0.000000</td>\n",
       "      <td>0.000000</td>\n",
       "      <td>1.658709e+09</td>\n",
       "    </tr>\n",
       "    <tr>\n",
       "      <th>25%</th>\n",
       "      <td>-7.228475</td>\n",
       "      <td>-57.568125</td>\n",
       "      <td>59.065000</td>\n",
       "      <td>64.000000</td>\n",
       "      <td>10.750000</td>\n",
       "      <td>3.440000</td>\n",
       "      <td>1.658709e+09</td>\n",
       "    </tr>\n",
       "    <tr>\n",
       "      <th>50%</th>\n",
       "      <td>25.912350</td>\n",
       "      <td>24.908950</td>\n",
       "      <td>71.405000</td>\n",
       "      <td>77.000000</td>\n",
       "      <td>59.500000</td>\n",
       "      <td>5.750000</td>\n",
       "      <td>1.658709e+09</td>\n",
       "    </tr>\n",
       "    <tr>\n",
       "      <th>75%</th>\n",
       "      <td>49.899550</td>\n",
       "      <td>106.259725</td>\n",
       "      <td>79.852500</td>\n",
       "      <td>88.000000</td>\n",
       "      <td>99.250000</td>\n",
       "      <td>10.417500</td>\n",
       "      <td>1.658710e+09</td>\n",
       "    </tr>\n",
       "    <tr>\n",
       "      <th>max</th>\n",
       "      <td>78.218600</td>\n",
       "      <td>179.316700</td>\n",
       "      <td>106.320000</td>\n",
       "      <td>100.000000</td>\n",
       "      <td>100.000000</td>\n",
       "      <td>27.290000</td>\n",
       "      <td>1.658710e+09</td>\n",
       "    </tr>\n",
       "  </tbody>\n",
       "</table>\n",
       "</div>"
      ],
      "text/plain": [
       "              Lat         Lng    Max Temp    Humidity  Cloudiness  Wind Speed  \\\n",
       "count  508.000000  508.000000  508.000000  508.000000  508.000000  508.000000   \n",
       "mean    21.150910   21.511625   69.373346   73.521654   54.625984    7.363248   \n",
       "std     33.678352   92.157883   14.178368   19.286011   40.454444    5.168524   \n",
       "min    -54.800000 -179.166700   26.650000    1.000000    0.000000    0.000000   \n",
       "25%     -7.228475  -57.568125   59.065000   64.000000   10.750000    3.440000   \n",
       "50%     25.912350   24.908950   71.405000   77.000000   59.500000    5.750000   \n",
       "75%     49.899550  106.259725   79.852500   88.000000   99.250000   10.417500   \n",
       "max     78.218600  179.316700  106.320000  100.000000  100.000000   27.290000   \n",
       "\n",
       "               Date  \n",
       "count  5.080000e+02  \n",
       "mean   1.658709e+09  \n",
       "std    2.144215e+02  \n",
       "min    1.658709e+09  \n",
       "25%    1.658709e+09  \n",
       "50%    1.658709e+09  \n",
       "75%    1.658710e+09  \n",
       "max    1.658710e+09  "
      ]
     },
     "execution_count": 9,
     "metadata": {},
     "output_type": "execute_result"
    }
   ],
   "source": [
    "weatherDF.describe()"
   ]
  },
  {
   "cell_type": "markdown",
   "metadata": {},
   "source": [
    "Based on the data above, no cities have humidity over 100 (skip step)"
   ]
  },
  {
   "cell_type": "markdown",
   "metadata": {},
   "source": [
    "## Plotting the Data\n",
    "* Use proper labeling of the plots using plot titles (including date of analysis) and axes labels.\n",
    "* Save the plotted figures as .pngs."
   ]
  },
  {
   "cell_type": "markdown",
   "metadata": {},
   "source": [
    "## Latitude vs. Temperature Plot"
   ]
  },
  {
   "cell_type": "code",
   "execution_count": 10,
   "metadata": {
    "scrolled": true
   },
   "outputs": [
    {
     "data": {
      "image/png": "[encoded data removed]",
      "text/plain": [
       "<Figure size 432x288 with 1 Axes>"
      ]
     },
     "metadata": {
      "needs_background": "light"
     },
     "output_type": "display_data"
    }
   ],
   "source": [
    "# create scatter plot\n",
    "plt.scatter(weatherDF[\"Lat\"], weatherDF[\"Max Temp\"], marker=\"o\", facecolors=\"blue\", edgecolors=\"black\")\n",
    "plt.title(\"City Latitude vs. Max Temperature (07/24/22)\")\n",
    "plt.xlabel(\"Latitude\")\n",
    "plt.ylabel(\"Max Temperature (F)\")\n",
    "plt.savefig(\"outputData/Latitude vs Max Temperature.png\")\n",
    "plt.show()"
   ]
  },
  {
   "cell_type": "markdown",
   "metadata": {},
   "source": [
    "Plotting the relationship between the latitude and the max temperature of each city."
   ]
  },
  {
   "cell_type": "markdown",
   "metadata": {},
   "source": [
    "## Latitude vs. Humidity Plot"
   ]
  },
  {
   "cell_type": "code",
   "execution_count": 11,
   "metadata": {},
   "outputs": [
    {
     "data": {
      "image/png": "[encoded data removed]",
      "text/plain": [
       "<Figure size 432x288 with 1 Axes>"
      ]
     },
     "metadata": {
      "needs_background": "light"
     },
     "output_type": "display_data"
    }
   ],
   "source": [
    "# create scatter plot\n",
    "plt.scatter(weatherDF[\"Lat\"], weatherDF[\"Humidity\"], marker=\"o\", facecolors=\"blue\", edgecolors=\"black\")\n",
    "plt.title(\"City Latitude vs. Humidity (07/24/22)\")\n",
    "plt.xlabel(\"Latitude\")\n",
    "plt.ylabel(\"Humidity (%)\")\n",
    "plt.savefig(\"outputData/Latitude vs Humidity.png\")\n",
    "plt.show()"
   ]
  },
  {
   "cell_type": "markdown",
   "metadata": {},
   "source": [
    "Plotting the relationship between the latitude and the % of humidity of each city."
   ]
  },
  {
   "cell_type": "markdown",
   "metadata": {},
   "source": [
    "## Latitude vs. Cloudiness Plot"
   ]
  },
  {
   "cell_type": "code",
   "execution_count": 12,
   "metadata": {},
   "outputs": [
    {
     "data": {
      "image/png": "[encoded data removed]",
      "text/plain": [
       "<Figure size 432x288 with 1 Axes>"
      ]
     },
     "metadata": {
      "needs_background": "light"
     },
     "output_type": "display_data"
    }
   ],
   "source": [
    "# create scatter plot\n",
    "plt.scatter(weatherDF[\"Lat\"], weatherDF[\"Cloudiness\"], marker=\"o\", facecolors=\"blue\", edgecolors=\"black\")\n",
    "plt.title(\"City Latitude vs. Cloudiness (07/24/22)\")\n",
    "plt.xlabel(\"Latitude\")\n",
    "plt.ylabel(\"Cloudiness (%)\")\n",
    "plt.savefig(\"outputData/Latitude vs Cloudiness.png\")\n",
    "plt.show()"
   ]
  },
  {
   "cell_type": "markdown",
   "metadata": {},
   "source": [
    "Plotting the relationship between the latitude and the % of cloudiness of each city."
   ]
  },
  {
   "cell_type": "markdown",
   "metadata": {},
   "source": [
    "## Latitude vs. Wind Speed Plot"
   ]
  },
  {
   "cell_type": "code",
   "execution_count": 13,
   "metadata": {},
   "outputs": [
    {
     "data": {
      "image/png": "[encoded data removed]",
      "text/plain": [
       "<Figure size 432x288 with 1 Axes>"
      ]
     },
     "metadata": {
      "needs_background": "light"
     },
     "output_type": "display_data"
    }
   ],
   "source": [
    "# create scatter plot\n",
    "plt.scatter(weatherDF[\"Lat\"], weatherDF[\"Wind Speed\"], marker=\"o\", facecolors=\"blue\", edgecolors=\"black\")\n",
    "plt.title(\"City Latitude vs. Wind Speed (mph)\")\n",
    "plt.xlabel(\"Latitude\")\n",
    "plt.ylabel(\"Wind Speed (mph)\")\n",
    "plt.savefig(\"outputData/Latitude vs Wind Speed.png\")\n",
    "plt.show()"
   ]
  },
  {
   "cell_type": "markdown",
   "metadata": {},
   "source": [
    "Plotting the relationship between the latitude and the wind speed (mph) of each city."
   ]
  },
  {
   "cell_type": "markdown",
   "metadata": {},
   "source": [
    "## Linear Regression"
   ]
  },
  {
   "cell_type": "code",
   "execution_count": 14,
   "metadata": {},
   "outputs": [],
   "source": [
    "# Create a DF for the northern and southern hemisphere based on latitude\n",
    "northernDF = weatherDF[weatherDF[\"Lat\"] >= 0]\n",
    "southernDF = weatherDF[weatherDF[\"Lat\"] < 0]"
   ]
  },
  {
   "cell_type": "markdown",
   "metadata": {},
   "source": [
    "####  Northern Hemisphere - Max Temp vs. Latitude Linear Regression"
   ]
  },
  {
   "cell_type": "code",
   "execution_count": 15,
   "metadata": {},
   "outputs": [
    {
     "name": "stdout",
     "output_type": "stream",
     "text": [
      "The r-value is -0.6603022073827371\n"
     ]
    },
    {
     "data": {
      "image/png": "[encoded data removed]",
      "text/plain": [
       "<Figure size 432x288 with 1 Axes>"
      ]
     },
     "metadata": {
      "needs_background": "light"
     },
     "output_type": "display_data"
    }
   ],
   "source": [
    "# Create scatter plot\n",
    "plt.scatter(northernDF[\"Lat\"], northernDF[\"Max Temp\"], marker=\"o\", facecolors=\"blue\", edgecolors=\"black\")\n",
    "plt.title(\"City Latitude vs. Max Temperature (07/24/22)\")\n",
    "plt.xlabel(\"Latitude\")\n",
    "plt.ylabel(\"Max Temperature (F)\")\n",
    "plt.savefig(\"outputData/Max Temp vs Latitude Regression - NH\")\n",
    "\n",
    "# Create and plot linear regression\n",
    "(slope, intercept, rvalue, pvalue, stderr) = linregress(northernDF[\"Lat\"],northernDF[\"Max Temp\"])\n",
    "regressValues = (northernDF[\"Lat\"]*slope) + intercept\n",
    "lineEQ = f\"y = {round(slope,2)}x + {round(intercept,2)}\"\n",
    "plt.plot(northernDF[\"Lat\"], regressValues, \"r-\")\n",
    "plt.annotate(lineEQ,(0,36), fontsize=10, color=\"red\")\n",
    "print(f\"The r-value is {rvalue}\")\n",
    "plt.show()"
   ]
  },
  {
   "cell_type": "markdown",
   "metadata": {},
   "source": [
    "The r-value of -0.66 indicates a negative moderate/strong correlation. In the northern hemisphere, as you move away from the equator, the temperature decreases."
   ]
  },
  {
   "cell_type": "markdown",
   "metadata": {},
   "source": [
    "####  Southern Hemisphere - Max Temp vs. Latitude Linear Regression"
   ]
  },
  {
   "cell_type": "code",
   "execution_count": 25,
   "metadata": {},
   "outputs": [
    {
     "name": "stdout",
     "output_type": "stream",
     "text": [
      "The r-value is 0.7703519201392166\n"
     ]
    },
    {
     "data": {
      "image/png": "[encoded data removed]",
      "text/plain": [
       "<Figure size 432x288 with 1 Axes>"
      ]
     },
     "metadata": {
      "needs_background": "light"
     },
     "output_type": "display_data"
    }
   ],
   "source": [
    "# Create scatter plot\n",
    "plt.scatter(southernDF[\"Lat\"], southernDF[\"Max Temp\"], marker=\"o\", facecolors=\"blue\", edgecolors=\"black\")\n",
    "plt.title(\"City Latitude vs. Max Temperature (07/24/22)\")\n",
    "plt.xlabel(\"Latitude\")\n",
    "plt.ylabel(\"Max Temperature (F)\")\n",
    "plt.savefig(\"outputData/Max Temp vs Latitude Regression - SH\")\n",
    "\n",
    "# Create and plot linear regression\n",
    "(slope, intercept, rvalue, pvalue, stderr) = linregress(southernDF[\"Lat\"],southernDF[\"Max Temp\"])\n",
    "regressValues = (southernDF[\"Lat\"]*slope) + intercept\n",
    "lineEQ = f\"y = {round(slope,2)}x + {round(intercept,2)}\"\n",
    "plt.plot(southernDF[\"Lat\"], regressValues, \"r-\")\n",
    "plt.annotate(lineEQ,(-15,27), fontsize=10, color=\"red\")\n",
    "print(f\"The r-value is {rvalue}\")\n",
    "plt.show()"
   ]
  },
  {
   "cell_type": "markdown",
   "metadata": {},
   "source": [
    "The r-value of 0.77 indicates a positive strong correlation. In the southern hemisphere, as you move closer to the equator, the temperature increases."
   ]
  },
  {
   "cell_type": "markdown",
   "metadata": {},
   "source": [
    "####  Northern Hemisphere - Humidity (%) vs. Latitude Linear Regression"
   ]
  },
  {
   "cell_type": "code",
   "execution_count": 17,
   "metadata": {},
   "outputs": [
    {
     "name": "stdout",
     "output_type": "stream",
     "text": [
      "The r-value is -0.007318746726820299\n"
     ]
    },
    {
     "data": {
      "image/png": "[encoded data removed]",
      "text/plain": [
       "<Figure size 432x288 with 1 Axes>"
      ]
     },
     "metadata": {
      "needs_background": "light"
     },
     "output_type": "display_data"
    }
   ],
   "source": [
    "# Create scatter plot\n",
    "plt.scatter(northernDF[\"Lat\"], northernDF[\"Humidity\"], marker=\"o\", facecolors=\"blue\", edgecolors=\"black\")\n",
    "plt.title(\"City Latitude vs. Humidity (07/24/22)\")\n",
    "plt.xlabel(\"Latitude\")\n",
    "plt.ylabel(\"Humidity (%)\")\n",
    "plt.savefig(\"outputData/Humidity vs Latitude Regression - NH\")\n",
    "\n",
    "# Create and plot linear regression\n",
    "(slope, intercept, rvalue, pvalue, stderr) = linregress(northernDF[\"Lat\"],northernDF[\"Humidity\"])\n",
    "regressValues = (northernDF[\"Lat\"]*slope) + intercept\n",
    "lineEQ = f\"y = {round(slope,2)}x + {round(intercept,2)}\"\n",
    "plt.plot(northernDF[\"Lat\"], regressValues, \"r-\")\n",
    "plt.annotate(lineEQ,(55,7), fontsize=10, color=\"red\")\n",
    "print(f\"The r-value is {rvalue}\")\n",
    "plt.show()"
   ]
  },
  {
   "cell_type": "markdown",
   "metadata": {},
   "source": [
    "The very low r-value indicates that there is no correlation between the latitude of a city and the percentage of humidity."
   ]
  },
  {
   "cell_type": "markdown",
   "metadata": {},
   "source": [
    "####  Southern Hemisphere - Humidity (%) vs. Latitude Linear Regression"
   ]
  },
  {
   "cell_type": "code",
   "execution_count": 18,
   "metadata": {},
   "outputs": [
    {
     "name": "stdout",
     "output_type": "stream",
     "text": [
      "The r-value is -0.11545812528090023\n"
     ]
    },
    {
     "data": {
      "image/png": "[encoded data removed]",
      "text/plain": [
       "<Figure size 432x288 with 1 Axes>"
      ]
     },
     "metadata": {
      "needs_background": "light"
     },
     "output_type": "display_data"
    }
   ],
   "source": [
    "# Create scatter plot\n",
    "plt.scatter(southernDF[\"Lat\"], southernDF[\"Humidity\"], marker=\"o\", facecolors=\"blue\", edgecolors=\"black\")\n",
    "plt.title(\"City Latitude vs. Humidity (07/24/22)\")\n",
    "plt.xlabel(\"Latitude\")\n",
    "plt.ylabel(\"Humidity (%)\")\n",
    "plt.savefig(\"outputData/Humidity vs Latitude Regression - SH\")\n",
    "\n",
    "# Create and plot linear regression\n",
    "(slope, intercept, rvalue, pvalue, stderr) = linregress(southernDF[\"Lat\"],southernDF[\"Humidity\"])\n",
    "regressValues = (southernDF[\"Lat\"]*slope) + intercept\n",
    "lineEQ = f\"y = {round(slope,2)}x + {round(intercept,2)}\"\n",
    "plt.plot(southernDF[\"Lat\"], regressValues, \"r-\")\n",
    "plt.annotate(lineEQ,(-55,25), fontsize=10, color=\"red\")\n",
    "print(f\"The r-value is {rvalue}\")\n",
    "plt.show()"
   ]
  },
  {
   "cell_type": "markdown",
   "metadata": {},
   "source": [
    "The very low r-value indicates that there is no correlation between the latitude of a city and the percentage of humidity."
   ]
  },
  {
   "cell_type": "markdown",
   "metadata": {},
   "source": [
    "####  Northern Hemisphere - Cloudiness (%) vs. Latitude Linear Regression"
   ]
  },
  {
   "cell_type": "code",
   "execution_count": 26,
   "metadata": {},
   "outputs": [
    {
     "name": "stdout",
     "output_type": "stream",
     "text": [
      "The r-value is 0.024551912685917582\n"
     ]
    },
    {
     "data": {
      "image/png": "[encoded data removed]",
      "text/plain": [
       "<Figure size 432x288 with 1 Axes>"
      ]
     },
     "metadata": {
      "needs_background": "light"
     },
     "output_type": "display_data"
    }
   ],
   "source": [
    "# Create scatter plot\n",
    "plt.scatter(northernDF[\"Lat\"], northernDF[\"Cloudiness\"], marker=\"o\", facecolors=\"blue\", edgecolors=\"black\")\n",
    "plt.title(\"City Latitude vs. Cloudiness (07/24/22)\")\n",
    "plt.xlabel(\"Latitude\")\n",
    "plt.ylabel(\"Cloudiness (%)\")\n",
    "plt.savefig(\"outputData/Cloudiness vs Latitude Regression - NH\")\n",
    "\n",
    "# Create and plot linear regression\n",
    "(slope, intercept, rvalue, pvalue, stderr) = linregress(northernDF[\"Lat\"],northernDF[\"Cloudiness\"])\n",
    "regressValues = (northernDF[\"Lat\"]*slope) + intercept\n",
    "lineEQ = f\"y = {round(slope,2)}x + {round(intercept,2)}\"\n",
    "plt.plot(northernDF[\"Lat\"], regressValues, \"r-\")\n",
    "plt.annotate(lineEQ,(57,50), fontsize=10, color=\"red\")\n",
    "print(f\"The r-value is {rvalue}\")\n",
    "plt.show()"
   ]
  },
  {
   "cell_type": "markdown",
   "metadata": {},
   "source": [
    "The very low r-value indicates that there is no correlation between the latitude of a city and the percentage of cloudiness."
   ]
  },
  {
   "cell_type": "markdown",
   "metadata": {},
   "source": [
    "####  Southern Hemisphere - Cloudiness (%) vs. Latitude Linear Regression"
   ]
  },
  {
   "cell_type": "code",
   "execution_count": 27,
   "metadata": {},
   "outputs": [
    {
     "name": "stdout",
     "output_type": "stream",
     "text": [
      "The r-value is -0.04121194315272629\n"
     ]
    },
    {
     "data": {
      "image/png": "[encoded data removed]",
      "text/plain": [
       "<Figure size 432x288 with 1 Axes>"
      ]
     },
     "metadata": {
      "needs_background": "light"
     },
     "output_type": "display_data"
    }
   ],
   "source": [
    "# Create scatter plot\n",
    "plt.scatter(southernDF[\"Lat\"], southernDF[\"Cloudiness\"], marker=\"o\", facecolors=\"blue\", edgecolors=\"black\")\n",
    "plt.title(\"City Latitude vs. Cloudiness (07/24/22)\")\n",
    "plt.xlabel(\"Latitude\")\n",
    "plt.ylabel(\"Cloudiness (%)\")\n",
    "plt.savefig(\"outputData/Cloudiness vs Latitude Regression - SH\")\n",
    "\n",
    "# Create and plot linear regression\n",
    "(slope, intercept, rvalue, pvalue, stderr) = linregress(southernDF[\"Lat\"],southernDF[\"Cloudiness\"])\n",
    "regressValues = (southernDF[\"Lat\"]*slope) + intercept\n",
    "lineEQ = f\"y = {round(slope,2)}x + {round(intercept,2)}\"\n",
    "plt.plot(southernDF[\"Lat\"], regressValues, \"r-\")\n",
    "plt.annotate(lineEQ,(-55,45), fontsize=10, color=\"red\")\n",
    "print(f\"The r-value is {rvalue}\")\n",
    "plt.show()"
   ]
  },
  {
   "cell_type": "markdown",
   "metadata": {},
   "source": [
    "The very low r-value indicates that there is no correlation between the latitude of a city and the percentage of cloudiness."
   ]
  },
  {
   "cell_type": "markdown",
   "metadata": {},
   "source": [
    "####  Northern Hemisphere - Wind Speed (mph) vs. Latitude Linear Regression"
   ]
  },
  {
   "cell_type": "code",
   "execution_count": 30,
   "metadata": {},
   "outputs": [
    {
     "name": "stdout",
     "output_type": "stream",
     "text": [
      "The r-value is 0.025652286084243543\n"
     ]
    },
    {
     "data": {
      "image/png": "[encoded data removed]",
      "text/plain": [
       "<Figure size 432x288 with 1 Axes>"
      ]
     },
     "metadata": {
      "needs_background": "light"
     },
     "output_type": "display_data"
    }
   ],
   "source": [
    "# Create scatter plot\n",
    "plt.scatter(northernDF[\"Lat\"], northernDF[\"Wind Speed\"], marker=\"o\", facecolors=\"blue\", edgecolors=\"black\")\n",
    "plt.title(\"City Latitude vs. Wind Speed (07/24/22)\")\n",
    "plt.xlabel(\"Latitude\")\n",
    "plt.ylabel(\"Wind Speed (mph)\")\n",
    "plt.savefig(\"outputData/Wind Speed vs Latitude Regression - NH\")\n",
    "\n",
    "# Create and plot linear regression\n",
    "(slope, intercept, rvalue, pvalue, stderr) = linregress(northernDF[\"Lat\"],northernDF[\"Wind Speed\"])\n",
    "regressValues = (northernDF[\"Lat\"]*slope) + intercept\n",
    "lineEQ = f\"y = {round(slope,2)}x + {round(intercept,2)}\"\n",
    "plt.plot(northernDF[\"Lat\"], regressValues, \"r-\")\n",
    "plt.annotate(lineEQ,(0,27), fontsize=10, color=\"red\")\n",
    "print(f\"The r-value is {rvalue}\")\n",
    "plt.show()"
   ]
  },
  {
   "cell_type": "markdown",
   "metadata": {},
   "source": [
    "The very low r-value indicates that there is no correlation between the latitude of a city and the speed of the wind."
   ]
  },
  {
   "cell_type": "markdown",
   "metadata": {},
   "source": [
    "####  Southern Hemisphere - Wind Speed (mph) vs. Latitude Linear Regression"
   ]
  },
  {
   "cell_type": "code",
   "execution_count": 32,
   "metadata": {},
   "outputs": [
    {
     "name": "stdout",
     "output_type": "stream",
     "text": [
      "The r-value is -0.20932871450419982\n"
     ]
    },
    {
     "data": {
      "image/png": "[encoded data removed]",
      "text/plain": [
       "<Figure size 432x288 with 1 Axes>"
      ]
     },
     "metadata": {
      "needs_background": "light"
     },
     "output_type": "display_data"
    }
   ],
   "source": [
    "# Create scatter plot\n",
    "plt.scatter(southernDF[\"Lat\"], southernDF[\"Wind Speed\"], marker=\"o\", facecolors=\"blue\", edgecolors=\"black\")\n",
    "plt.title(\"City Latitude vs. Wind Speed (07/24/22)\")\n",
    "plt.xlabel(\"Latitude\")\n",
    "plt.ylabel(\"Wind Speed (mph)\")\n",
    "plt.savefig(\"outputData/Wind Speed vs Latitude Regression - SH\")\n",
    "\n",
    "# Create and plot linear regression\n",
    "(slope, intercept, rvalue, pvalue, stderr) = linregress(southernDF[\"Lat\"],southernDF[\"Wind Speed\"])\n",
    "regressValues = (southernDF[\"Lat\"]*slope) + intercept\n",
    "lineEQ = f\"y = {round(slope,2)}x + {round(intercept,2)}\"\n",
    "plt.plot(southernDF[\"Lat\"], regressValues, \"r-\")\n",
    "plt.annotate(lineEQ,(-54,23), fontsize=10, color=\"red\")\n",
    "print(f\"The r-value is {rvalue}\")\n",
    "plt.show()"
   ]
  },
  {
   "cell_type": "markdown",
   "metadata": {},
   "source": [
    "The very low r-value indicates that there is no correlation between the latitude of a city and the speed of the wind."
   ]
  }
 ],
 "metadata": {
  "anaconda-cloud": {},
  "kernel_info": {
   "name": "python3"
  },
  "kernelspec": {
   "display_name": "Python 3 (ipykernel)",
   "language": "python",
   "name": "python3"
  },
  "language_info": {
   "codemirror_mode": {
    "name": "ipython",
    "version": 3
   },
   "file_extension": ".py",
   "mimetype": "text/x-python",
   "name": "python",
   "nbconvert_exporter": "python",
   "pygments_lexer": "ipython3",
   "version": "3.9.7"
  },
  "latex_envs": {
   "LaTeX_envs_menu_present": true,
   "autoclose": false,
   "autocomplete": true,
   "bibliofile": "biblio.bib",
   "cite_by": "apalike",
   "current_citInitial": 1,
   "eqLabelWithNumbers": true,
   "eqNumInitial": 1,
   "hotkeys": {
    "equation": "Ctrl-E",
    "itemize": "Ctrl-I"
   },
   "labels_anchors": false,
   "latex_user_defs": false,
   "report_style_numbering": false,
   "user_envs_cfg": false
  },
  "nteract": {
   "version": "0.12.3"
  }
 },
 "nbformat": 4,
 "nbformat_minor": 2
}
