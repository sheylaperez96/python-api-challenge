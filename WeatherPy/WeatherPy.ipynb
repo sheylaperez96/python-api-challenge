{
 "cells": [
  {
   "cell_type": "markdown",
   "metadata": {},
   "source": [
    "# WeatherPy\n",
    "----\n",
    "Observable Trends\n",
    "- In the northern hemisphere, as you move away from the equator, the temperature decreases. This is seen by the linear regression plot, which has an r-value of -0.60, indicating a moderate/strong negative correlation. \n",
    "- In the southern hemisphere, as you get closer to the equator, the temperatures increases. This is seen by the linear regression plot, which has an r-value of 0.78, indicating a moderate/strong positive correlation. \n",
    "- The correlation between latitude and temperature isn't perfect, as other factors such as elevation, ocean currents, and precipitation also affect climate patterns.\n",
    "- Based on the other linear regression plots, there is no correlation (r-value < 0.3) between:\n",
    "    - Latitude and Humidity %\n",
    "    - Latitude and Cloudiness %\n",
    "    - Latitude and Wind Speed"
   ]
  },
  {
   "cell_type": "code",
   "execution_count": 1,
   "metadata": {},
   "outputs": [],
   "source": [
    "# Dependencies and Setup\n",
    "import matplotlib.pyplot as plt\n",
    "import pandas as pd\n",
    "import numpy as np\n",
    "import requests\n",
    "import time # to space out the number of hits\n",
    "from scipy.stats import linregress\n",
    "from pprint import pprint \n",
    "from api_keys import weather_api_key\n",
    "\n",
    "# Incorporated citipy to determine city based on latitude and longitude\n",
    "from citipy import citipy\n",
    "\n",
    "# Output File (CSV)\n",
    "outputData = \"output_data/cities.csv\"\n",
    "\n",
    "# Range of latitudes and longitudes\n",
    "latRange = (-90, 90)\n",
    "lngRange = (-180, 180)"
   ]
  },
  {
   "cell_type": "markdown",
   "metadata": {},
   "source": [
    "## Generate Cities List"
   ]
  },
  {
   "cell_type": "code",
   "execution_count": 2,
   "metadata": {},
   "outputs": [
    {
     "data": {
      "text/plain": [
       "611"
      ]
     },
     "execution_count": 2,
     "metadata": {},
     "output_type": "execute_result"
    }
   ],
   "source": [
    "# List for holding lat_lngs and cities\n",
    "lat_lngs = []\n",
    "cities = []\n",
    "\n",
    "# Create a set of random lat and lng combinations\n",
    "lats = np.random.uniform(latRange[0], latRange[1], size=1500)\n",
    "lngs = np.random.uniform(lngRange[0], lngRange[1], size=1500)\n",
    "lat_lngs = zip(lats, lngs)\n",
    "\n",
    "# Identify nearest city for each lat, lng combination\n",
    "for lat_lng in lat_lngs:\n",
    "    city = citipy.nearest_city(lat_lng[0], lat_lng[1]).city_name\n",
    "    \n",
    "    # If the city is unique, then add it to a our cities list\n",
    "    if city not in cities:\n",
    "        cities.append(city)\n",
    "\n",
    "# Print the city count to confirm sufficient count\n",
    "len(cities)"
   ]
  },
  {
   "cell_type": "markdown",
   "metadata": {},
   "source": [
    "### Perform API Calls\n",
    "* Perform a weather check on each city using a series of successive API calls.\n",
    "* Include a print log of each city as it'sbeing processed (with the city number and city name).\n"
   ]
  },
  {
   "cell_type": "code",
   "execution_count": 3,
   "metadata": {},
   "outputs": [],
   "source": [
    "# Build base URL and variables\n",
    "url = \"http://api.openweathermap.org/data/2.5/weather?\"\n",
    "units = \"imperial\"\n",
    "api_key = weather_api_key"
   ]
  },
  {
   "cell_type": "code",
   "execution_count": 4,
   "metadata": {},
   "outputs": [
    {
     "name": "stdout",
     "output_type": "stream",
     "text": [
      "Beginning Data Retrieval\n",
      "-----------------------------\n",
      "Processing Record 1 of Set 1 | Atuona\n",
      "Processing Record 2 of Set 1 | Lompoc\n",
      "City not found. Skipping...\n",
      "Processing Record 3 of Set 1 | Shiyan\n",
      "Processing Record 4 of Set 1 | Mamou\n",
      "City not found. Skipping...\n",
      "Processing Record 5 of Set 1 | Bandarbeyla\n",
      "Processing Record 6 of Set 1 | Hilo\n",
      "Processing Record 7 of Set 1 | Sur\n",
      "Processing Record 8 of Set 1 | Bredasdorp\n",
      "City not found. Skipping...\n",
      "Processing Record 9 of Set 1 | Katsuura\n",
      "Processing Record 10 of Set 1 | Castro\n",
      "City not found. Skipping...\n",
      "Processing Record 11 of Set 1 | New Norfolk\n",
      "Processing Record 12 of Set 1 | Praia\n",
      "Processing Record 13 of Set 1 | Port Elizabeth\n",
      "Processing Record 14 of Set 1 | Saint-Augustin\n",
      "Processing Record 15 of Set 1 | Bethel\n",
      "Processing Record 16 of Set 1 | Mataura\n",
      "Processing Record 17 of Set 1 | Vaini\n",
      "Processing Record 18 of Set 1 | Kohima\n",
      "Processing Record 19 of Set 1 | Kirakira\n",
      "Processing Record 20 of Set 1 | San Francisco\n",
      "Processing Record 21 of Set 1 | Undory\n",
      "Processing Record 22 of Set 1 | Carnarvon\n",
      "Processing Record 23 of Set 1 | Souillac\n",
      "City not found. Skipping...\n",
      "Processing Record 24 of Set 1 | Vanimo\n",
      "Processing Record 25 of Set 1 | Mason City\n",
      "Processing Record 26 of Set 1 | Butaritari\n",
      "City not found. Skipping...\n",
      "Processing Record 27 of Set 1 | Busselton\n",
      "Processing Record 28 of Set 1 | Dikson\n",
      "Processing Record 29 of Set 1 | Ushuaia\n",
      "Processing Record 30 of Set 1 | Port Alfred\n",
      "Processing Record 31 of Set 1 | Kingsville\n",
      "Processing Record 32 of Set 1 | Rikitea\n",
      "Processing Record 33 of Set 1 | Cape Town\n",
      "Processing Record 34 of Set 1 | Chake Chake\n",
      "Processing Record 35 of Set 1 | Chui\n",
      "Processing Record 36 of Set 1 | Newport\n",
      "Processing Record 37 of Set 1 | Punta Arenas\n",
      "Processing Record 38 of Set 1 | Mizdah\n",
      "Processing Record 39 of Set 1 | Pisco\n",
      "Processing Record 40 of Set 1 | Saint Paul Harbor\n",
      "Processing Record 41 of Set 1 | Taltal\n",
      "Processing Record 42 of Set 1 | Ulaanbaatar\n",
      "Processing Record 43 of Set 1 | Rizhao\n",
      "City not found. Skipping...\n",
      "Processing Record 44 of Set 1 | Wajid\n",
      "Processing Record 45 of Set 1 | Avarua\n",
      "Processing Record 46 of Set 1 | Miranda\n",
      "Processing Record 47 of Set 1 | Yangi Marg`ilon\n",
      "Processing Record 48 of Set 1 | Albany\n",
      "Processing Record 49 of Set 1 | Vrangel'\n",
      "Processing Record 50 of Set 1 | Pangnirtung\n",
      "Processing Record 1 of Set 2 | Adrar\n",
      "Processing Record 2 of Set 2 | Acaraú\n",
      "City not found. Skipping...\n",
      "Processing Record 3 of Set 2 | Huilong\n",
      "Processing Record 4 of Set 2 | Ponta do Sol\n",
      "Processing Record 5 of Set 2 | Mahanoro\n",
      "Processing Record 6 of Set 2 | Barrow\n",
      "Processing Record 7 of Set 2 | Aklavik\n",
      "Processing Record 8 of Set 2 | Tura\n",
      "Processing Record 9 of Set 2 | Hobart\n",
      "Processing Record 10 of Set 2 | Ribeira Grande\n",
      "Processing Record 11 of Set 2 | Port Lincoln\n",
      "Processing Record 12 of Set 2 | Taksimo\n",
      "Processing Record 13 of Set 2 | West Bay\n",
      "Processing Record 14 of Set 2 | Esim\n",
      "Processing Record 15 of Set 2 | Puerto Ayora\n",
      "Processing Record 16 of Set 2 | Arraial do Cabo\n",
      "Processing Record 17 of Set 2 | Dzerzhinsk\n",
      "Processing Record 18 of Set 2 | Sakakah\n",
      "Processing Record 19 of Set 2 | Honningsvåg\n",
      "Processing Record 20 of Set 2 | Tiksi\n",
      "Processing Record 21 of Set 2 | Carutapera\n",
      "Processing Record 22 of Set 2 | Hong Kong\n",
      "Processing Record 23 of Set 2 | Camalú\n",
      "Processing Record 24 of Set 2 | Cidreira\n",
      "City not found. Skipping...\n",
      "Processing Record 25 of Set 2 | Varkaus\n",
      "Processing Record 26 of Set 2 | Hermanus\n",
      "Processing Record 27 of Set 2 | Lahat\n",
      "Processing Record 28 of Set 2 | Sørland\n",
      "Processing Record 29 of Set 2 | Labuhan\n",
      "Processing Record 30 of Set 2 | Progreso\n",
      "City not found. Skipping...\n",
      "Processing Record 31 of Set 2 | Cabo San Lucas\n",
      "Processing Record 32 of Set 2 | East London\n",
      "City not found. Skipping...\n",
      "Processing Record 33 of Set 2 | Puerto Rondón\n",
      "Processing Record 34 of Set 2 | Port Augusta\n",
      "Processing Record 35 of Set 2 | Lüderitz\n",
      "Processing Record 36 of Set 2 | Mercedes\n",
      "Processing Record 37 of Set 2 | Poreč\n",
      "Processing Record 38 of Set 2 | Srednekolymsk\n",
      "Processing Record 39 of Set 2 | Guymon\n",
      "City not found. Skipping...\n",
      "Processing Record 40 of Set 2 | Chekhov\n",
      "Processing Record 41 of Set 2 | Huari\n",
      "Processing Record 42 of Set 2 | Bambous Virieux\n",
      "Processing Record 43 of Set 2 | Paamiut\n",
      "Processing Record 44 of Set 2 | Polovinnoye\n",
      "Processing Record 45 of Set 2 | Chapais\n",
      "Processing Record 46 of Set 2 | Atasū\n",
      "Processing Record 47 of Set 2 | Sainte-Savine\n",
      "Processing Record 48 of Set 2 | Sorong\n",
      "Processing Record 49 of Set 2 | Brainerd\n",
      "Processing Record 50 of Set 2 | Havøysund\n",
      "Processing Record 1 of Set 3 | Cururupu\n",
      "Processing Record 2 of Set 3 | Matara\n",
      "Processing Record 3 of Set 3 | Tasiilaq\n",
      "Processing Record 4 of Set 3 | Longyearbyen\n",
      "Processing Record 5 of Set 3 | Cayenne\n",
      "Processing Record 6 of Set 3 | Kiryat Gat\n",
      "Processing Record 7 of Set 3 | São José do Rio Preto\n",
      "Processing Record 8 of Set 3 | Vao\n",
      "Processing Record 9 of Set 3 | Bluff\n",
      "Processing Record 10 of Set 3 | Touros\n",
      "Processing Record 11 of Set 3 | Yar-Sale\n",
      "Processing Record 12 of Set 3 | Isangel\n",
      "Processing Record 13 of Set 3 | Cherskiy\n",
      "Processing Record 14 of Set 3 | Khatanga\n",
      "Processing Record 15 of Set 3 | Santa Rosa\n",
      "Processing Record 16 of Set 3 | Jamestown\n",
      "Processing Record 17 of Set 3 | Flinders\n",
      "Processing Record 18 of Set 3 | Bengkulu\n",
      "Processing Record 19 of Set 3 | Pochutla\n",
      "Processing Record 20 of Set 3 | Evergreen Park\n",
      "Processing Record 21 of Set 3 | Barentu\n",
      "Processing Record 22 of Set 3 | Tevaitoa\n",
      "Processing Record 23 of Set 3 | Mar del Plata\n",
      "Processing Record 24 of Set 3 | Nanning\n",
      "Processing Record 25 of Set 3 | Mlowo\n",
      "Processing Record 26 of Set 3 | Qaanaaq\n",
      "Processing Record 27 of Set 3 | Nhulunbuy\n",
      "Processing Record 28 of Set 3 | Alice Springs\n",
      "Processing Record 29 of Set 3 | Narsaq\n",
      "Processing Record 30 of Set 3 | Zhangjiakou\n",
      "Processing Record 31 of Set 3 | Moanda\n",
      "Processing Record 32 of Set 3 | Rome\n",
      "Processing Record 33 of Set 3 | San Patricio\n",
      "Processing Record 34 of Set 3 | Japura\n",
      "Processing Record 35 of Set 3 | Gōtsuchō\n",
      "Processing Record 36 of Set 3 | Lebu\n",
      "Processing Record 37 of Set 3 | Nome\n",
      "Processing Record 38 of Set 3 | Nālūt\n",
      "Processing Record 39 of Set 3 | Aguadilla\n",
      "City not found. Skipping...\n",
      "Processing Record 40 of Set 3 | Shache\n",
      "Processing Record 41 of Set 3 | Laas\n",
      "City not found. Skipping...\n",
      "City not found. Skipping...\n",
      "Processing Record 42 of Set 3 | Geraldton\n",
      "Processing Record 43 of Set 3 | Kirovsk\n",
      "Processing Record 44 of Set 3 | Kargasok\n",
      "City not found. Skipping...\n",
      "Processing Record 45 of Set 3 | Nikolskoye\n",
      "City not found. Skipping...\n",
      "Processing Record 46 of Set 3 | Hirara\n",
      "Processing Record 47 of Set 3 | Broome\n",
      "Processing Record 48 of Set 3 | Palana\n",
      "Processing Record 49 of Set 3 | Kavieng\n",
      "Processing Record 50 of Set 3 | Tuktoyaktuk\n",
      "Processing Record 1 of Set 4 | Petropavlovsk-Kamchatskiy\n",
      "Processing Record 2 of Set 4 | Hasaki\n",
      "Processing Record 3 of Set 4 | Kapaa\n",
      "Processing Record 4 of Set 4 | Saint-Philippe\n",
      "Processing Record 5 of Set 4 | Sistranda\n",
      "Processing Record 6 of Set 4 | Bonito\n",
      "Processing Record 7 of Set 4 | Bubaque\n",
      "Processing Record 8 of Set 4 | Nicolás Bravo\n",
      "Processing Record 9 of Set 4 | Hofn\n",
      "Processing Record 10 of Set 4 | Hithadhoo\n",
      "Processing Record 11 of Set 4 | Sajanan\n",
      "Processing Record 12 of Set 4 | Leningradskiy\n",
      "Processing Record 13 of Set 4 | Husavik\n",
      "Processing Record 14 of Set 4 | Okhotsk\n",
      "Processing Record 15 of Set 4 | Leshukonskoye\n",
      "Processing Record 16 of Set 4 | Landau\n",
      "Processing Record 17 of Set 4 | Los Llanos de Aridane\n",
      "Processing Record 18 of Set 4 | Kimbe\n",
      "City not found. Skipping...\n",
      "Processing Record 19 of Set 4 | Labuan\n",
      "Processing Record 20 of Set 4 | Saint-Pierre\n",
      "Processing Record 21 of Set 4 | Saint George\n",
      "Processing Record 22 of Set 4 | Chokurdakh\n",
      "Processing Record 23 of Set 4 | Buraidah\n",
      "Processing Record 24 of Set 4 | Saskylakh\n",
      "Processing Record 25 of Set 4 | Ponta Delgada\n",
      "Processing Record 26 of Set 4 | Jasper\n",
      "Processing Record 27 of Set 4 | Tual\n",
      "Processing Record 28 of Set 4 | Huarmey\n",
      "Processing Record 29 of Set 4 | Tynda\n",
      "Processing Record 30 of Set 4 | Kruisfontein\n",
      "Processing Record 31 of Set 4 | Guerrero Negro\n",
      "Processing Record 32 of Set 4 | Biltine\n",
      "Processing Record 33 of Set 4 | Megion\n",
      "Processing Record 34 of Set 4 | Waipawa\n",
      "Processing Record 35 of Set 4 | Hay River\n",
      "Processing Record 36 of Set 4 | Sandakan\n"
     ]
    },
    {
     "name": "stdout",
     "output_type": "stream",
     "text": [
      "Processing Record 37 of Set 4 | Vila Franca do Campo\n",
      "Processing Record 38 of Set 4 | Marabba\n",
      "Processing Record 39 of Set 4 | Portland\n",
      "Processing Record 40 of Set 4 | Newala\n",
      "Processing Record 41 of Set 4 | Klaksvík\n",
      "Processing Record 42 of Set 4 | Pandamatenga\n",
      "Processing Record 43 of Set 4 | Saint-Joseph\n",
      "Processing Record 44 of Set 4 | Rawson\n",
      "Processing Record 45 of Set 4 | Asău\n",
      "Processing Record 46 of Set 4 | Assiut\n",
      "Processing Record 47 of Set 4 | Safaga\n",
      "Processing Record 48 of Set 4 | Kamloops\n",
      "Processing Record 49 of Set 4 | Kawalu\n",
      "Processing Record 50 of Set 4 | Xiaoweizhai\n",
      "City not found. Skipping...\n",
      "Processing Record 1 of Set 5 | Gramsh\n",
      "Processing Record 2 of Set 5 | Muros\n",
      "Processing Record 3 of Set 5 | Ilulissat\n",
      "Processing Record 4 of Set 5 | Obeliai\n",
      "Processing Record 5 of Set 5 | Provideniya\n",
      "Processing Record 6 of Set 5 | Iqaluit\n",
      "Processing Record 7 of Set 5 | Khuzdar\n",
      "Processing Record 8 of Set 5 | George Town\n",
      "Processing Record 9 of Set 5 | Price\n",
      "Processing Record 10 of Set 5 | Morristown\n",
      "Processing Record 11 of Set 5 | Ingham\n",
      "Processing Record 12 of Set 5 | Sittwe\n",
      "Processing Record 13 of Set 5 | Departamento de Maldonado\n",
      "Processing Record 14 of Set 5 | Straumen\n",
      "Processing Record 15 of Set 5 | Poya\n",
      "Processing Record 16 of Set 5 | Mayya\n",
      "Processing Record 17 of Set 5 | Namioka\n",
      "Processing Record 18 of Set 5 | College\n",
      "Processing Record 19 of Set 5 | Mareeba\n",
      "Processing Record 20 of Set 5 | St. George's\n",
      "Processing Record 21 of Set 5 | Bonavista\n",
      "Processing Record 22 of Set 5 | Windhoek\n",
      "Processing Record 23 of Set 5 | Bagdarin\n",
      "Processing Record 24 of Set 5 | Yopal\n",
      "Processing Record 25 of Set 5 | Pingliang\n",
      "Processing Record 26 of Set 5 | Puri\n",
      "Processing Record 27 of Set 5 | Sydney\n",
      "Processing Record 28 of Set 5 | Riyadh\n",
      "Processing Record 29 of Set 5 | Bezhetsk\n",
      "Processing Record 30 of Set 5 | Porbandar\n",
      "Processing Record 31 of Set 5 | Fairbanks\n",
      "Processing Record 32 of Set 5 | Nieuw Amsterdam\n",
      "Processing Record 33 of Set 5 | Houma\n",
      "Processing Record 34 of Set 5 | Alta Floresta\n",
      "Processing Record 35 of Set 5 | Grindavik\n",
      "Processing Record 36 of Set 5 | Chifeng\n",
      "Processing Record 37 of Set 5 | Enid\n",
      "Processing Record 38 of Set 5 | Andijan\n",
      "Processing Record 39 of Set 5 | Korla\n",
      "Processing Record 40 of Set 5 | Santarém\n",
      "Processing Record 41 of Set 5 | Koson\n",
      "Processing Record 42 of Set 5 | South Lake Tahoe\n",
      "Processing Record 43 of Set 5 | Morros\n",
      "Processing Record 44 of Set 5 | Mahébourg\n",
      "Processing Record 45 of Set 5 | Yellowknife\n",
      "Processing Record 46 of Set 5 | Świnoujście\n",
      "Processing Record 47 of Set 5 | Keningau\n",
      "Processing Record 48 of Set 5 | Yaan\n",
      "Processing Record 49 of Set 5 | Birao\n",
      "Processing Record 50 of Set 5 | Ostrovnoy\n",
      "Processing Record 1 of Set 6 | Palembang\n",
      "Processing Record 2 of Set 6 | Severo-Kuril'sk\n",
      "Processing Record 3 of Set 6 | Abalak\n",
      "Processing Record 4 of Set 6 | Kununurra\n",
      "Processing Record 5 of Set 6 | Cradock\n",
      "Processing Record 6 of Set 6 | Victor Harbor\n",
      "Processing Record 7 of Set 6 | Ziniaré\n",
      "Processing Record 8 of Set 6 | Samarai\n",
      "Processing Record 9 of Set 6 | São João da Barra\n",
      "Processing Record 10 of Set 6 | Te Anau\n",
      "Processing Record 11 of Set 6 | Sonoita\n",
      "Processing Record 12 of Set 6 | Thompson\n",
      "Processing Record 13 of Set 6 | Khāsh\n",
      "Processing Record 14 of Set 6 | Schisma Eloundas\n",
      "City not found. Skipping...\n",
      "Processing Record 15 of Set 6 | Torbay\n",
      "Processing Record 16 of Set 6 | Langsa\n",
      "Processing Record 17 of Set 6 | Creston\n",
      "Processing Record 18 of Set 6 | Port Blair\n",
      "Processing Record 19 of Set 6 | Deputatsky\n",
      "Processing Record 20 of Set 6 | La Asuncion\n",
      "Processing Record 21 of Set 6 | Kieta\n",
      "Processing Record 22 of Set 6 | Ambon City\n",
      "Processing Record 23 of Set 6 | Muaná\n",
      "Processing Record 24 of Set 6 | La Ronge\n",
      "Processing Record 25 of Set 6 | Mayo\n",
      "Processing Record 26 of Set 6 | Teguise\n",
      "Processing Record 27 of Set 6 | Batagay-Alyta\n",
      "Processing Record 28 of Set 6 | Mkushi\n",
      "Processing Record 29 of Set 6 | Vestmanna\n",
      "Processing Record 30 of Set 6 | Cherepovets\n",
      "Processing Record 31 of Set 6 | Burns Lake\n",
      "Processing Record 32 of Set 6 | Abhā\n",
      "Processing Record 33 of Set 6 | Chatrā\n",
      "Processing Record 34 of Set 6 | Chute-aux-Outardes\n",
      "Processing Record 35 of Set 6 | Mitchell\n",
      "Processing Record 36 of Set 6 | Flin Flon\n",
      "City not found. Skipping...\n",
      "Processing Record 37 of Set 6 | Launceston\n",
      "Processing Record 38 of Set 6 | Kropotkin\n",
      "Processing Record 39 of Set 6 | Esna\n",
      "Processing Record 40 of Set 6 | Lagoa\n",
      "City not found. Skipping...\n",
      "Processing Record 41 of Set 6 | Alyangula\n",
      "Processing Record 42 of Set 6 | Airai\n",
      "Processing Record 43 of Set 6 | Sabang\n",
      "Processing Record 44 of Set 6 | Tūkrah\n",
      "Processing Record 45 of Set 6 | Osa\n",
      "Processing Record 46 of Set 6 | Uyemskiy\n",
      "Processing Record 47 of Set 6 | Järva-Jaani\n",
      "City not found. Skipping...\n",
      "Processing Record 48 of Set 6 | Mogadishu\n",
      "City not found. Skipping...\n",
      "Processing Record 49 of Set 6 | Kahului\n",
      "Processing Record 50 of Set 6 | Port Hueneme\n",
      "Processing Record 1 of Set 7 | Khovd\n",
      "Processing Record 2 of Set 7 | Sitka\n",
      "Processing Record 3 of Set 7 | Pakxan\n",
      "Processing Record 4 of Set 7 | Sisimiut\n",
      "Processing Record 5 of Set 7 | Karratha\n",
      "Processing Record 6 of Set 7 | Ngunguru\n",
      "Processing Record 7 of Set 7 | Karasburg\n",
      "Processing Record 8 of Set 7 | Inhambane\n",
      "Processing Record 9 of Set 7 | Olinda\n",
      "City not found. Skipping...\n",
      "Processing Record 10 of Set 7 | Lerik\n",
      "Processing Record 11 of Set 7 | Burgeo\n",
      "City not found. Skipping...\n",
      "Processing Record 12 of Set 7 | Andra\n",
      "Processing Record 13 of Set 7 | Olafsvik\n",
      "Processing Record 14 of Set 7 | Socorro\n",
      "Processing Record 15 of Set 7 | Chauk\n",
      "Processing Record 16 of Set 7 | Taveta\n",
      "Processing Record 17 of Set 7 | Sioux Lookout\n",
      "Processing Record 18 of Set 7 | San Quintín\n",
      "Processing Record 19 of Set 7 | Yumen\n",
      "Processing Record 20 of Set 7 | Tiznit Province\n",
      "Processing Record 21 of Set 7 | São Filipe\n",
      "Processing Record 22 of Set 7 | Ambulu\n",
      "City not found. Skipping...\n",
      "Processing Record 23 of Set 7 | Oranjemund\n",
      "Processing Record 24 of Set 7 | Mersing\n",
      "Processing Record 25 of Set 7 | Kenai\n",
      "Processing Record 26 of Set 7 | Tigil'\n",
      "Processing Record 27 of Set 7 | São Félix do Xingu\n",
      "Processing Record 28 of Set 7 | São José do Belmonte\n",
      "Processing Record 29 of Set 7 | Laela\n",
      "Processing Record 30 of Set 7 | Waingapu\n",
      "Processing Record 31 of Set 7 | Tongling\n",
      "Processing Record 32 of Set 7 | Omsukchan\n",
      "Processing Record 33 of Set 7 | Lavrentiya\n",
      "Processing Record 34 of Set 7 | Sanāwad\n",
      "Processing Record 35 of Set 7 | Naze\n",
      "Processing Record 36 of Set 7 | Faanui\n",
      "Processing Record 37 of Set 7 | Mount Gambier\n",
      "Processing Record 38 of Set 7 | Marzuq\n",
      "Processing Record 39 of Set 7 | Gravdal\n",
      "Processing Record 40 of Set 7 | Quipapá\n",
      "Processing Record 41 of Set 7 | Banda Aceh\n",
      "Processing Record 42 of Set 7 | Kumul\n",
      "Processing Record 43 of Set 7 | Camaná\n",
      "Processing Record 44 of Set 7 | Çumra\n",
      "Processing Record 45 of Set 7 | Karachi\n",
      "Processing Record 46 of Set 7 | Harlingen\n",
      "Processing Record 47 of Set 7 | Angoche\n",
      "Processing Record 48 of Set 7 | Kaeo\n",
      "Processing Record 49 of Set 7 | Kalmunai\n",
      "Processing Record 50 of Set 7 | Saint Stephen\n",
      "Processing Record 1 of Set 8 | Upernavik\n",
      "Processing Record 2 of Set 8 | Vârfurile\n",
      "Processing Record 3 of Set 8 | Santa Maria\n",
      "Processing Record 4 of Set 8 | Berlevåg\n",
      "Processing Record 5 of Set 8 | Conroe\n",
      "City not found. Skipping...\n",
      "Processing Record 6 of Set 8 | Punta Alta\n",
      "Processing Record 7 of Set 8 | Esperance\n",
      "Processing Record 8 of Set 8 | Taoudenni\n",
      "Processing Record 9 of Set 8 | Ambilobe\n",
      "Processing Record 10 of Set 8 | Tete\n",
      "Processing Record 11 of Set 8 | Viking\n",
      "City not found. Skipping...\n",
      "Processing Record 12 of Set 8 | Pimentel\n",
      "Processing Record 13 of Set 8 | Ubinskoye\n",
      "Processing Record 14 of Set 8 | Beringovskiy\n",
      "City not found. Skipping...\n",
      "Processing Record 15 of Set 8 | Gulbene\n",
      "Processing Record 16 of Set 8 | Tubmanburg\n",
      "Processing Record 17 of Set 8 | Lorengau\n",
      "Processing Record 18 of Set 8 | Kralendijk\n",
      "Processing Record 19 of Set 8 | Codrington\n",
      "Processing Record 20 of Set 8 | Baghdad\n",
      "Processing Record 21 of Set 8 | Constantine\n",
      "Processing Record 22 of Set 8 | Avera\n",
      "Processing Record 23 of Set 8 | Bandrele\n",
      "Processing Record 24 of Set 8 | Tuatapere\n",
      "Processing Record 25 of Set 8 | Manakara\n",
      "Processing Record 26 of Set 8 | Ushtobe\n",
      "City not found. Skipping...\n",
      "Processing Record 27 of Set 8 | Mt. Pleasant\n"
     ]
    },
    {
     "name": "stdout",
     "output_type": "stream",
     "text": [
      "Processing Record 28 of Set 8 | Bandundu Province\n",
      "Processing Record 29 of Set 8 | Morondava\n",
      "Processing Record 30 of Set 8 | Bambanglipuro\n",
      "Processing Record 31 of Set 8 | Shingū\n",
      "Processing Record 32 of Set 8 | Vardø\n",
      "Processing Record 33 of Set 8 | Auki\n",
      "Processing Record 34 of Set 8 | Arrondissement du Havre\n",
      "Processing Record 35 of Set 8 | Wajir\n",
      "City not found. Skipping...\n",
      "Processing Record 36 of Set 8 | Mossamedes\n",
      "Processing Record 37 of Set 8 | Dingle\n",
      "Processing Record 38 of Set 8 | Gebre Guracha\n",
      "Processing Record 39 of Set 8 | Gobabis\n",
      "Processing Record 40 of Set 8 | Puerto Cabezas\n",
      "Processing Record 41 of Set 8 | Ayan\n",
      "Processing Record 42 of Set 8 | Broken Hill\n",
      "Processing Record 43 of Set 8 | Phalombe\n",
      "Processing Record 44 of Set 8 | Mackay\n",
      "Processing Record 45 of Set 8 | Murdochville\n",
      "Processing Record 46 of Set 8 | Nantucket\n",
      "Processing Record 47 of Set 8 | Okha\n",
      "City not found. Skipping...\n",
      "Processing Record 48 of Set 8 | Astoria\n",
      "Processing Record 49 of Set 8 | Mangai\n",
      "Processing Record 50 of Set 8 | Chul'man\n",
      "Processing Record 1 of Set 9 | Durazno\n",
      "Processing Record 2 of Set 9 | Ranong\n",
      "Processing Record 3 of Set 9 | Rocha\n",
      "Processing Record 4 of Set 9 | Aykhal\n",
      "Processing Record 5 of Set 9 | Lakes Entrance\n",
      "Processing Record 6 of Set 9 | Yatou\n",
      "Processing Record 7 of Set 9 | Daşoguz\n",
      "Processing Record 8 of Set 9 | Vigrestad\n",
      "Processing Record 9 of Set 9 | Lata\n",
      "Processing Record 10 of Set 9 | Nabire\n",
      "Processing Record 11 of Set 9 | Port Hawkesbury\n",
      "Processing Record 12 of Set 9 | Maragogi\n",
      "Processing Record 13 of Set 9 | Coyhaique\n",
      "Processing Record 14 of Set 9 | Antofagasta\n",
      "Processing Record 15 of Set 9 | Vilhena\n",
      "Processing Record 16 of Set 9 | Povenets\n",
      "Processing Record 17 of Set 9 | Eufaula\n",
      "Processing Record 18 of Set 9 | Aban\n",
      "Processing Record 19 of Set 9 | Channarāyapatna\n",
      "Processing Record 20 of Set 9 | Skelmersdale\n",
      "Processing Record 21 of Set 9 | Belyy Yar\n",
      "City not found. Skipping...\n",
      "Processing Record 22 of Set 9 | Atbasar\n",
      "Processing Record 23 of Set 9 | Poum\n",
      "Processing Record 24 of Set 9 | Tapes\n",
      "Processing Record 25 of Set 9 | Norman Wells\n",
      "Processing Record 26 of Set 9 | Meulaboh\n",
      "Processing Record 27 of Set 9 | Itamarandiba\n",
      "Processing Record 28 of Set 9 | San Jose\n",
      "Processing Record 29 of Set 9 | Clyde River\n",
      "Processing Record 30 of Set 9 | Cassilândia\n",
      "Processing Record 31 of Set 9 | Chak Thirty-one -Eleven Left\n",
      "Processing Record 32 of Set 9 | Līsakovsk\n",
      "Processing Record 33 of Set 9 | Hambantota\n",
      "Processing Record 34 of Set 9 | Dashitou\n",
      "Processing Record 35 of Set 9 | Bilbor\n",
      "Processing Record 36 of Set 9 | Dwārka\n",
      "Processing Record 37 of Set 9 | Alofi\n",
      "City not found. Skipping...\n",
      "Processing Record 38 of Set 9 | Sturgis\n",
      "Processing Record 39 of Set 9 | Whitecourt\n",
      "Processing Record 40 of Set 9 | Marawi\n",
      "Processing Record 41 of Set 9 | Dargaville\n",
      "Processing Record 42 of Set 9 | Nsanje\n",
      "Processing Record 43 of Set 9 | Keti Bandar\n",
      "Processing Record 44 of Set 9 | Kem'\n",
      "Processing Record 45 of Set 9 | Paka\n",
      "Processing Record 46 of Set 9 | Talnakh\n",
      "City not found. Skipping...\n",
      "Processing Record 47 of Set 9 | Sayyan\n",
      "Processing Record 48 of Set 9 | Zyryanka\n",
      "Processing Record 49 of Set 9 | Kibaya\n",
      "Processing Record 50 of Set 9 | Corrente\n",
      "Processing Record 1 of Set 10 | Oistins\n",
      "Processing Record 2 of Set 10 | Punta de Bombón\n",
      "Processing Record 3 of Set 10 | Pontianak\n",
      "Processing Record 4 of Set 10 | San Cristobal\n",
      "Processing Record 5 of Set 10 | Youghal\n",
      "Processing Record 6 of Set 10 | Alexandria\n",
      "Processing Record 7 of Set 10 | Kenora\n",
      "Processing Record 8 of Set 10 | Pevek\n",
      "Processing Record 9 of Set 10 | Shimoda\n",
      "Processing Record 10 of Set 10 | Chongoyape\n",
      "Processing Record 11 of Set 10 | Tahe\n",
      "Processing Record 12 of Set 10 | Pui\n",
      "Processing Record 13 of Set 10 | Rupert\n",
      "Processing Record 14 of Set 10 | Swan Hill\n",
      "Processing Record 15 of Set 10 | Amzya\n",
      "Processing Record 16 of Set 10 | Hokitika\n",
      "Processing Record 17 of Set 10 | Oudtshoorn\n",
      "Processing Record 18 of Set 10 | Wukari\n",
      "Processing Record 19 of Set 10 | Anadyr\n",
      "Processing Record 20 of Set 10 | Kaitangata\n",
      "Processing Record 21 of Set 10 | Nouadhibou\n",
      "Processing Record 22 of Set 10 | Bodden Town\n",
      "Processing Record 23 of Set 10 | Panzhihua\n",
      "Processing Record 24 of Set 10 | Malakal\n",
      "Processing Record 25 of Set 10 | Ust-Tsilma\n",
      "Processing Record 26 of Set 10 | Kolpny\n",
      "Processing Record 27 of Set 10 | Mazsalaca\n",
      "Processing Record 28 of Set 10 | High Level\n",
      "Processing Record 29 of Set 10 | Krasnosel'kup\n",
      "Processing Record 30 of Set 10 | Mahabalipuram\n",
      "Processing Record 31 of Set 10 | Münsingen\n",
      "Processing Record 32 of Set 10 | Gizo Government Station\n",
      "Processing Record 33 of Set 10 | Wolfeboro\n",
      "Processing Record 34 of Set 10 | Altay\n",
      "Processing Record 35 of Set 10 | Paulo Ramos\n",
      "Processing Record 36 of Set 10 | Toora-Khem\n",
      "Processing Record 37 of Set 10 | Sept-Îles\n",
      "Processing Record 38 of Set 10 | Hamilton\n",
      "Processing Record 39 of Set 10 | Businga\n",
      "Processing Record 40 of Set 10 | Panguna\n",
      "Processing Record 41 of Set 10 | Partāpur\n",
      "Processing Record 42 of Set 10 | Dutlwe\n",
      "Processing Record 43 of Set 10 | Risti\n",
      "Processing Record 44 of Set 10 | Kulhudhuffushi\n",
      "Processing Record 45 of Set 10 | Shubarkuduk\n",
      "Processing Record 46 of Set 10 | San Policarpo\n",
      "Processing Record 47 of Set 10 | Suileng\n",
      "Processing Record 48 of Set 10 | Ketchikan\n",
      "Processing Record 49 of Set 10 | Fare\n",
      "Processing Record 50 of Set 10 | Ambovombe\n",
      "Processing Record 1 of Set 11 | Kamenka\n",
      "City not found. Skipping...\n",
      "Processing Record 2 of Set 11 | Mosquera\n",
      "Processing Record 3 of Set 11 | Weiser\n",
      "Processing Record 4 of Set 11 | Ossora\n",
      "Processing Record 5 of Set 11 | Myitkyina\n",
      "Processing Record 6 of Set 11 | Chumphon\n",
      "Processing Record 7 of Set 11 | Fortuna\n",
      "Processing Record 8 of Set 11 | Batagay\n",
      "Processing Record 9 of Set 11 | Doha\n",
      "Processing Record 10 of Set 11 | Sobolevo\n",
      "Processing Record 11 of Set 11 | Makakilo City\n",
      "Processing Record 12 of Set 11 | Manggar\n",
      "Processing Record 13 of Set 11 | Honiara\n",
      "Processing Record 14 of Set 11 | Aripuanã\n",
      "Processing Record 15 of Set 11 | Saldanha\n",
      "Processing Record 16 of Set 11 | Bonthe\n",
      "Processing Record 17 of Set 11 | Oodweyne\n",
      "City not found. Skipping...\n",
      "Processing Record 18 of Set 11 | Tocopilla\n",
      "Processing Record 19 of Set 11 | Zorya\n",
      "Processing Record 20 of Set 11 | Ancud\n",
      "Processing Record 21 of Set 11 | Padang\n",
      "Processing Record 22 of Set 11 | Turukhansk\n",
      "Processing Record 23 of Set 11 | Mezen'\n",
      "Processing Record 24 of Set 11 | Emerald\n",
      "Processing Record 25 of Set 11 | Union\n",
      "Processing Record 26 of Set 11 | Hailin\n",
      "Processing Record 27 of Set 11 | Shenzhen\n",
      "Processing Record 28 of Set 11 | Hobyo\n",
      "Processing Record 29 of Set 11 | Abomey\n",
      "Processing Record 30 of Set 11 | Mahon\n",
      "City not found. Skipping...\n",
      "Processing Record 31 of Set 11 | Coahuayana Viejo\n",
      "Processing Record 32 of Set 11 | Ulladulla\n",
      "Processing Record 33 of Set 11 | Oga\n",
      "Processing Record 34 of Set 11 | Cartagena\n",
      "Processing Record 35 of Set 11 | Baft\n",
      "Processing Record 36 of Set 11 | Koudougou\n",
      "Processing Record 37 of Set 11 | Filimonovo\n",
      "Processing Record 38 of Set 11 | Goderich\n",
      "Processing Record 39 of Set 11 | Rockland\n",
      "Processing Record 40 of Set 11 | Paita\n",
      "Processing Record 41 of Set 11 | Pringsewu\n",
      "Processing Record 42 of Set 11 | Henties Bay\n",
      "Processing Record 43 of Set 11 | Keokuk\n",
      "Processing Record 44 of Set 11 | Fairmont\n",
      "Processing Record 45 of Set 11 | Oddur\n",
      "Processing Record 46 of Set 11 | Forsytheganj\n",
      "Processing Record 47 of Set 11 | Bilibino\n",
      "Processing Record 48 of Set 11 | Richards Bay\n",
      "Processing Record 49 of Set 11 | Iwanai\n",
      "Processing Record 50 of Set 11 | Nizhniy Kuranakh\n",
      "Processing Record 1 of Set 12 | Nsunga\n",
      "Processing Record 2 of Set 12 | Reyes\n",
      "Processing Record 3 of Set 12 | Plettenberg Bay\n",
      "Processing Record 4 of Set 12 | Palmerston\n",
      "City not found. Skipping...\n",
      "Processing Record 5 of Set 12 | Sanghar\n",
      "Processing Record 6 of Set 12 | Mataya\n",
      "Processing Record 7 of Set 12 | Narwar\n",
      "Processing Record 8 of Set 12 | Katherine\n",
      "Processing Record 9 of Set 12 | Port Macquarie\n",
      "City not found. Skipping...\n",
      "Processing Record 10 of Set 12 | Chara\n",
      "Processing Record 11 of Set 12 | Sesimbra\n",
      "Processing Record 12 of Set 12 | Teknāf\n",
      "Processing Record 13 of Set 12 | Kodīnar\n",
      "Processing Record 14 of Set 12 | Mandera\n",
      "Processing Record 15 of Set 12 | Halifax\n",
      "Processing Record 16 of Set 12 | Ko Samui\n",
      "Processing Record 17 of Set 12 | Baracoa\n"
     ]
    },
    {
     "name": "stdout",
     "output_type": "stream",
     "text": [
      "Processing Record 18 of Set 12 | Puerto Baquerizo Moreno\n",
      "Processing Record 19 of Set 12 | Constitución\n",
      "Processing Record 20 of Set 12 | Fort Nelson\n",
      "-----------------------------\n",
      "Data Retrieval Complete\n",
      "-----------------------------\n"
     ]
    }
   ],
   "source": [
    "# get valid cities\n",
    "validCities = []\n",
    "\n",
    "# set records and sets (initialize to 1)\n",
    "records = 1\n",
    "sets = 1\n",
    "\n",
    "print(\"Beginning Data Retrieval\")\n",
    "print(\"-----------------------------\")\n",
    "\n",
    "for city in cities:\n",
    "    # Build URL and get Weather Data \n",
    "    queryURL = f\"{url}appid={api_key}&units={units}&q={city}\"\n",
    "    response = requests.get(queryURL).json()\n",
    "    \n",
    "    # append valid cities to the validCities list\n",
    "    try:\n",
    "        validCities.append(response['name'])                \n",
    "        print(f\"Processing Record {records} of Set {sets} | {response['name']}\")\n",
    "        \n",
    "    except:\n",
    "        print(f\"City not found. Skipping...\")\n",
    "        records = records - 1\n",
    "        \n",
    "    records = records + 1\n",
    "    if records > 50:\n",
    "        records = 1\n",
    "        sets = sets + 1 \n",
    "    \n",
    "    # add a one second interval between queries to stay within API query limits\n",
    "    time.sleep(1)\n",
    "\n",
    "print(\"-----------------------------\")        \n",
    "print(\"Data Retrieval Complete\")\n",
    "print(\"-----------------------------\")"
   ]
  },
  {
   "cell_type": "code",
   "execution_count": 5,
   "metadata": {},
   "outputs": [
    {
     "data": {
      "text/plain": [
       "570"
      ]
     },
     "execution_count": 5,
     "metadata": {},
     "output_type": "execute_result"
    }
   ],
   "source": [
    "len(validCities)"
   ]
  },
  {
   "cell_type": "code",
   "execution_count": 6,
   "metadata": {},
   "outputs": [],
   "source": [
    "# Empty lists \n",
    "latitudes = []\n",
    "longitudes = []\n",
    "maxTemps = []\n",
    "humidity = []\n",
    "cloudiness = []\n",
    "windSpeed = []\n",
    "country = []\n",
    "date = []\n",
    "\n",
    "# loop through the cities and grab the information needed for the lists\n",
    "for city in validCities:\n",
    "    queryURL = f\"{url}appid={api_key}&units={units}&q={city}\"\n",
    "    # Get weather data\n",
    "    response = requests.get(queryURL).json()\n",
    "   \n",
    "    #add the info to the lists\n",
    "    latitudes.append(response[\"coord\"][\"lat\"])\n",
    "    longitudes.append(response[\"coord\"][\"lon\"])\n",
    "    maxTemps.append(response[\"main\"][\"temp_max\"])\n",
    "    humidity.append(response[\"main\"][\"humidity\"])\n",
    "    cloudiness.append(response['clouds']['all'])\n",
    "    windSpeed.append(response[\"wind\"][\"speed\"])\n",
    "    country.append(response[\"sys\"][\"country\"])\n",
    "    date.append(response[\"dt\"])"
   ]
  },
  {
   "cell_type": "markdown",
   "metadata": {},
   "source": [
    "### Convert Raw Data to DataFrame\n",
    "* Export the city data into a .csv.\n",
    "* Display the DataFrame"
   ]
  },
  {
   "cell_type": "code",
   "execution_count": 7,
   "metadata": {},
   "outputs": [
    {
     "data": {
      "text/html": [
       "<div>\n",
       "<style scoped>\n",
       "    .dataframe tbody tr th:only-of-type {\n",
       "        vertical-align: middle;\n",
       "    }\n",
       "\n",
       "    .dataframe tbody tr th {\n",
       "        vertical-align: top;\n",
       "    }\n",
       "\n",
       "    .dataframe thead th {\n",
       "        text-align: right;\n",
       "    }\n",
       "</style>\n",
       "<table border=\"1\" class=\"dataframe\">\n",
       "  <thead>\n",
       "    <tr style=\"text-align: right;\">\n",
       "      <th></th>\n",
       "      <th>City</th>\n",
       "      <th>Lat</th>\n",
       "      <th>Lng</th>\n",
       "      <th>Max Temp</th>\n",
       "      <th>Humidity</th>\n",
       "      <th>Cloudiness</th>\n",
       "      <th>Wind Speed</th>\n",
       "      <th>Country</th>\n",
       "      <th>Date</th>\n",
       "    </tr>\n",
       "  </thead>\n",
       "  <tbody>\n",
       "    <tr>\n",
       "      <th>0</th>\n",
       "      <td>Atuona</td>\n",
       "      <td>-9.8000</td>\n",
       "      <td>-139.0333</td>\n",
       "      <td>76.93</td>\n",
       "      <td>77</td>\n",
       "      <td>3</td>\n",
       "      <td>15.43</td>\n",
       "      <td>PF</td>\n",
       "      <td>1658836722</td>\n",
       "    </tr>\n",
       "    <tr>\n",
       "      <th>1</th>\n",
       "      <td>Lompoc</td>\n",
       "      <td>34.6391</td>\n",
       "      <td>-120.4579</td>\n",
       "      <td>58.01</td>\n",
       "      <td>88</td>\n",
       "      <td>100</td>\n",
       "      <td>5.01</td>\n",
       "      <td>US</td>\n",
       "      <td>1658836723</td>\n",
       "    </tr>\n",
       "    <tr>\n",
       "      <th>2</th>\n",
       "      <td>Shiyan</td>\n",
       "      <td>32.6475</td>\n",
       "      <td>110.7781</td>\n",
       "      <td>77.41</td>\n",
       "      <td>91</td>\n",
       "      <td>30</td>\n",
       "      <td>4.50</td>\n",
       "      <td>CN</td>\n",
       "      <td>1658836723</td>\n",
       "    </tr>\n",
       "    <tr>\n",
       "      <th>3</th>\n",
       "      <td>Mamou</td>\n",
       "      <td>10.5000</td>\n",
       "      <td>-12.0000</td>\n",
       "      <td>74.52</td>\n",
       "      <td>84</td>\n",
       "      <td>98</td>\n",
       "      <td>2.46</td>\n",
       "      <td>GN</td>\n",
       "      <td>1658836723</td>\n",
       "    </tr>\n",
       "    <tr>\n",
       "      <th>4</th>\n",
       "      <td>Bandarbeyla</td>\n",
       "      <td>9.4942</td>\n",
       "      <td>50.8122</td>\n",
       "      <td>90.23</td>\n",
       "      <td>43</td>\n",
       "      <td>81</td>\n",
       "      <td>26.37</td>\n",
       "      <td>SO</td>\n",
       "      <td>1658836724</td>\n",
       "    </tr>\n",
       "  </tbody>\n",
       "</table>\n",
       "</div>"
      ],
      "text/plain": [
       "          City      Lat       Lng  Max Temp  Humidity  Cloudiness  Wind Speed  \\\n",
       "0       Atuona  -9.8000 -139.0333     76.93        77           3       15.43   \n",
       "1       Lompoc  34.6391 -120.4579     58.01        88         100        5.01   \n",
       "2       Shiyan  32.6475  110.7781     77.41        91          30        4.50   \n",
       "3        Mamou  10.5000  -12.0000     74.52        84          98        2.46   \n",
       "4  Bandarbeyla   9.4942   50.8122     90.23        43          81       26.37   \n",
       "\n",
       "  Country        Date  \n",
       "0      PF  1658836722  \n",
       "1      US  1658836723  \n",
       "2      CN  1658836723  \n",
       "3      GN  1658836723  \n",
       "4      SO  1658836724  "
      ]
     },
     "execution_count": 7,
     "metadata": {},
     "output_type": "execute_result"
    }
   ],
   "source": [
    "weatherDictionary = {\n",
    "    \"City\": validCities,\n",
    "    \"Lat\": latitudes,\n",
    "    \"Lng\": longitudes,\n",
    "    \"Max Temp\": maxTemps,\n",
    "    \"Humidity\": humidity, \n",
    "    \"Cloudiness\": cloudiness,\n",
    "    \"Wind Speed\": windSpeed,\n",
    "    \"Country\": country, \n",
    "    \"Date\": date\n",
    "}\n",
    "\n",
    "weatherDF = pd.DataFrame(weatherDictionary)\n",
    "weatherDF.head(5)"
   ]
  },
  {
   "cell_type": "code",
   "execution_count": 8,
   "metadata": {},
   "outputs": [],
   "source": [
    "weatherDF.to_csv(\"outputData/WeatherData.csv\", index=False)"
   ]
  },
  {
   "cell_type": "code",
   "execution_count": 9,
   "metadata": {},
   "outputs": [
    {
     "data": {
      "text/html": [
       "<div>\n",
       "<style scoped>\n",
       "    .dataframe tbody tr th:only-of-type {\n",
       "        vertical-align: middle;\n",
       "    }\n",
       "\n",
       "    .dataframe tbody tr th {\n",
       "        vertical-align: top;\n",
       "    }\n",
       "\n",
       "    .dataframe thead th {\n",
       "        text-align: right;\n",
       "    }\n",
       "</style>\n",
       "<table border=\"1\" class=\"dataframe\">\n",
       "  <thead>\n",
       "    <tr style=\"text-align: right;\">\n",
       "      <th></th>\n",
       "      <th>Lat</th>\n",
       "      <th>Lng</th>\n",
       "      <th>Max Temp</th>\n",
       "      <th>Humidity</th>\n",
       "      <th>Cloudiness</th>\n",
       "      <th>Wind Speed</th>\n",
       "      <th>Date</th>\n",
       "    </tr>\n",
       "  </thead>\n",
       "  <tbody>\n",
       "    <tr>\n",
       "      <th>count</th>\n",
       "      <td>570.000000</td>\n",
       "      <td>570.000000</td>\n",
       "      <td>570.000000</td>\n",
       "      <td>570.000000</td>\n",
       "      <td>570.000000</td>\n",
       "      <td>570.000000</td>\n",
       "      <td>5.700000e+02</td>\n",
       "    </tr>\n",
       "    <tr>\n",
       "      <th>mean</th>\n",
       "      <td>20.022884</td>\n",
       "      <td>22.359322</td>\n",
       "      <td>71.358632</td>\n",
       "      <td>69.403509</td>\n",
       "      <td>56.991228</td>\n",
       "      <td>7.986772</td>\n",
       "      <td>1.658837e+09</td>\n",
       "    </tr>\n",
       "    <tr>\n",
       "      <th>std</th>\n",
       "      <td>33.296155</td>\n",
       "      <td>90.811404</td>\n",
       "      <td>14.402192</td>\n",
       "      <td>23.526719</td>\n",
       "      <td>35.753524</td>\n",
       "      <td>5.342261</td>\n",
       "      <td>2.000822e+02</td>\n",
       "    </tr>\n",
       "    <tr>\n",
       "      <th>min</th>\n",
       "      <td>-54.800000</td>\n",
       "      <td>-175.200000</td>\n",
       "      <td>29.320000</td>\n",
       "      <td>1.000000</td>\n",
       "      <td>0.000000</td>\n",
       "      <td>0.000000</td>\n",
       "      <td>1.658836e+09</td>\n",
       "    </tr>\n",
       "    <tr>\n",
       "      <th>25%</th>\n",
       "      <td>-7.741475</td>\n",
       "      <td>-59.235575</td>\n",
       "      <td>61.235000</td>\n",
       "      <td>55.000000</td>\n",
       "      <td>25.500000</td>\n",
       "      <td>3.835000</td>\n",
       "      <td>1.658836e+09</td>\n",
       "    </tr>\n",
       "    <tr>\n",
       "      <th>50%</th>\n",
       "      <td>24.180700</td>\n",
       "      <td>29.844300</td>\n",
       "      <td>73.820000</td>\n",
       "      <td>76.500000</td>\n",
       "      <td>65.500000</td>\n",
       "      <td>6.910000</td>\n",
       "      <td>1.658837e+09</td>\n",
       "    </tr>\n",
       "    <tr>\n",
       "      <th>75%</th>\n",
       "      <td>48.580950</td>\n",
       "      <td>101.373175</td>\n",
       "      <td>80.020000</td>\n",
       "      <td>88.000000</td>\n",
       "      <td>92.000000</td>\n",
       "      <td>11.030000</td>\n",
       "      <td>1.658837e+09</td>\n",
       "    </tr>\n",
       "    <tr>\n",
       "      <th>max</th>\n",
       "      <td>78.218600</td>\n",
       "      <td>179.316700</td>\n",
       "      <td>111.510000</td>\n",
       "      <td>100.000000</td>\n",
       "      <td>100.000000</td>\n",
       "      <td>29.510000</td>\n",
       "      <td>1.658837e+09</td>\n",
       "    </tr>\n",
       "  </tbody>\n",
       "</table>\n",
       "</div>"
      ],
      "text/plain": [
       "              Lat         Lng    Max Temp    Humidity  Cloudiness  Wind Speed  \\\n",
       "count  570.000000  570.000000  570.000000  570.000000  570.000000  570.000000   \n",
       "mean    20.022884   22.359322   71.358632   69.403509   56.991228    7.986772   \n",
       "std     33.296155   90.811404   14.402192   23.526719   35.753524    5.342261   \n",
       "min    -54.800000 -175.200000   29.320000    1.000000    0.000000    0.000000   \n",
       "25%     -7.741475  -59.235575   61.235000   55.000000   25.500000    3.835000   \n",
       "50%     24.180700   29.844300   73.820000   76.500000   65.500000    6.910000   \n",
       "75%     48.580950  101.373175   80.020000   88.000000   92.000000   11.030000   \n",
       "max     78.218600  179.316700  111.510000  100.000000  100.000000   29.510000   \n",
       "\n",
       "               Date  \n",
       "count  5.700000e+02  \n",
       "mean   1.658837e+09  \n",
       "std    2.000822e+02  \n",
       "min    1.658836e+09  \n",
       "25%    1.658836e+09  \n",
       "50%    1.658837e+09  \n",
       "75%    1.658837e+09  \n",
       "max    1.658837e+09  "
      ]
     },
     "execution_count": 9,
     "metadata": {},
     "output_type": "execute_result"
    }
   ],
   "source": [
    "weatherDF.describe()"
   ]
  },
  {
   "cell_type": "markdown",
   "metadata": {},
   "source": [
    "Based on the data above, no cities have humidity over 100 (skip step)"
   ]
  },
  {
   "cell_type": "markdown",
   "metadata": {},
   "source": [
    "## Plotting the Data\n",
    "* Use proper labeling of the plots using plot titles (including date of analysis) and axes labels.\n",
    "* Save the plotted figures as .pngs."
   ]
  },
  {
   "cell_type": "markdown",
   "metadata": {},
   "source": [
    "## Latitude vs. Temperature Plot"
   ]
  },
  {
   "cell_type": "code",
   "execution_count": 10,
   "metadata": {
    "scrolled": true
   },
   "outputs": [
    {
     "data": {
      "image/png": "[encoded data removed]",
      "text/plain": [
       "<Figure size 432x288 with 1 Axes>"
      ]
     },
     "metadata": {
      "needs_background": "light"
     },
     "output_type": "display_data"
    }
   ],
   "source": [
    "# create scatter plot\n",
    "plt.scatter(weatherDF[\"Lat\"], weatherDF[\"Max Temp\"], marker=\"o\", facecolors=\"blue\", edgecolors=\"black\")\n",
    "plt.title(\"City Latitude vs. Max Temperature (07/24/22)\")\n",
    "plt.xlabel(\"Latitude\")\n",
    "plt.ylabel(\"Max Temperature (F)\")\n",
    "plt.savefig(\"outputData/Latitude vs Max Temperature.png\")\n",
    "plt.show()"
   ]
  },
  {
   "cell_type": "markdown",
   "metadata": {},
   "source": [
    "Plotting the relationship between the latitude and the max temperature of each city."
   ]
  },
  {
   "cell_type": "markdown",
   "metadata": {},
   "source": [
    "## Latitude vs. Humidity Plot"
   ]
  },
  {
   "cell_type": "code",
   "execution_count": 11,
   "metadata": {},
   "outputs": [
    {
     "data": {
      "image/png": "[encoded data removed]",
      "text/plain": [
       "<Figure size 432x288 with 1 Axes>"
      ]
     },
     "metadata": {
      "needs_background": "light"
     },
     "output_type": "display_data"
    }
   ],
   "source": [
    "# create scatter plot\n",
    "plt.scatter(weatherDF[\"Lat\"], weatherDF[\"Humidity\"], marker=\"o\", facecolors=\"blue\", edgecolors=\"black\")\n",
    "plt.title(\"City Latitude vs. Humidity (07/24/22)\")\n",
    "plt.xlabel(\"Latitude\")\n",
    "plt.ylabel(\"Humidity (%)\")\n",
    "plt.savefig(\"outputData/Latitude vs Humidity.png\")\n",
    "plt.show()"
   ]
  },
  {
   "cell_type": "markdown",
   "metadata": {},
   "source": [
    "Plotting the relationship between the latitude and the % of humidity of each city."
   ]
  },
  {
   "cell_type": "markdown",
   "metadata": {},
   "source": [
    "## Latitude vs. Cloudiness Plot"
   ]
  },
  {
   "cell_type": "code",
   "execution_count": 12,
   "metadata": {},
   "outputs": [
    {
     "data": {
      "image/png": "[encoded data removed]",
      "text/plain": [
       "<Figure size 432x288 with 1 Axes>"
      ]
     },
     "metadata": {
      "needs_background": "light"
     },
     "output_type": "display_data"
    }
   ],
   "source": [
    "# create scatter plot\n",
    "plt.scatter(weatherDF[\"Lat\"], weatherDF[\"Cloudiness\"], marker=\"o\", facecolors=\"blue\", edgecolors=\"black\")\n",
    "plt.title(\"City Latitude vs. Cloudiness (07/24/22)\")\n",
    "plt.xlabel(\"Latitude\")\n",
    "plt.ylabel(\"Cloudiness (%)\")\n",
    "plt.savefig(\"outputData/Latitude vs Cloudiness.png\")\n",
    "plt.show()"
   ]
  },
  {
   "cell_type": "markdown",
   "metadata": {},
   "source": [
    "Plotting the relationship between the latitude and the % of cloudiness of each city."
   ]
  },
  {
   "cell_type": "markdown",
   "metadata": {},
   "source": [
    "## Latitude vs. Wind Speed Plot"
   ]
  },
  {
   "cell_type": "code",
   "execution_count": 13,
   "metadata": {},
   "outputs": [
    {
     "data": {
      "image/png": "[encoded data removed]",
      "text/plain": [
       "<Figure size 432x288 with 1 Axes>"
      ]
     },
     "metadata": {
      "needs_background": "light"
     },
     "output_type": "display_data"
    }
   ],
   "source": [
    "# create scatter plot\n",
    "plt.scatter(weatherDF[\"Lat\"], weatherDF[\"Wind Speed\"], marker=\"o\", facecolors=\"blue\", edgecolors=\"black\")\n",
    "plt.title(\"City Latitude vs. Wind Speed (mph)\")\n",
    "plt.xlabel(\"Latitude\")\n",
    "plt.ylabel(\"Wind Speed (mph)\")\n",
    "plt.savefig(\"outputData/Latitude vs Wind Speed.png\")\n",
    "plt.show()"
   ]
  },
  {
   "cell_type": "markdown",
   "metadata": {},
   "source": [
    "Plotting the relationship between the latitude and the wind speed (mph) of each city."
   ]
  },
  {
   "cell_type": "markdown",
   "metadata": {},
   "source": [
    "## Linear Regression"
   ]
  },
  {
   "cell_type": "code",
   "execution_count": 14,
   "metadata": {},
   "outputs": [],
   "source": [
    "# Create a DF for the northern and southern hemisphere based on latitude\n",
    "northernDF = weatherDF[weatherDF[\"Lat\"] >= 0]\n",
    "southernDF = weatherDF[weatherDF[\"Lat\"] < 0]"
   ]
  },
  {
   "cell_type": "markdown",
   "metadata": {},
   "source": [
    "####  Northern Hemisphere - Max Temp vs. Latitude Linear Regression"
   ]
  },
  {
   "cell_type": "code",
   "execution_count": 32,
   "metadata": {},
   "outputs": [
    {
     "name": "stdout",
     "output_type": "stream",
     "text": [
      "The r-value is -0.5981715963567177\n"
     ]
    },
    {
     "data": {
      "image/png": "[encoded data removed]",
      "text/plain": [
       "<Figure size 432x288 with 1 Axes>"
      ]
     },
     "metadata": {
      "needs_background": "light"
     },
     "output_type": "display_data"
    }
   ],
   "source": [
    "# Create scatter plot\n",
    "plt.scatter(northernDF[\"Lat\"], northernDF[\"Max Temp\"], marker=\"o\", facecolors=\"blue\", edgecolors=\"black\")\n",
    "plt.title(\"City Latitude vs. Max Temperature (07/24/22)\")\n",
    "plt.xlabel(\"Latitude\")\n",
    "plt.ylabel(\"Max Temperature (F)\")\n",
    "\n",
    "# Create and plot linear regression\n",
    "(slope, intercept, rvalue, pvalue, stderr) = linregress(northernDF[\"Lat\"],northernDF[\"Max Temp\"])\n",
    "regressValues = (northernDF[\"Lat\"]*slope) + intercept\n",
    "lineEQ = f\"y = {round(slope,2)}x + {round(intercept,2)}\"\n",
    "plt.plot(northernDF[\"Lat\"], regressValues, \"r-\")\n",
    "plt.annotate(lineEQ,(0,36), fontsize=10, color=\"red\")\n",
    "print(f\"The r-value is {rvalue}\")\n",
    "plt.savefig(\"outputData/NH - Max Temp vs Latitude Regression\")\n",
    "plt.show()"
   ]
  },
  {
   "cell_type": "markdown",
   "metadata": {},
   "source": [
    "The r-value of -0.60 indicates a negative moderate/strong correlation. In the northern hemisphere, as you move away from the equator, the temperature decreases."
   ]
  },
  {
   "cell_type": "markdown",
   "metadata": {},
   "source": [
    "####  Southern Hemisphere - Max Temp vs. Latitude Linear Regression"
   ]
  },
  {
   "cell_type": "code",
   "execution_count": 33,
   "metadata": {},
   "outputs": [
    {
     "name": "stdout",
     "output_type": "stream",
     "text": [
      "The r-value is 0.7775391776220175\n"
     ]
    },
    {
     "data": {
      "image/png": "[encoded data removed]",
      "text/plain": [
       "<Figure size 432x288 with 1 Axes>"
      ]
     },
     "metadata": {
      "needs_background": "light"
     },
     "output_type": "display_data"
    }
   ],
   "source": [
    "# Create scatter plot\n",
    "plt.scatter(southernDF[\"Lat\"], southernDF[\"Max Temp\"], marker=\"o\", facecolors=\"blue\", edgecolors=\"black\")\n",
    "plt.title(\"City Latitude vs. Max Temperature (07/24/22)\")\n",
    "plt.xlabel(\"Latitude\")\n",
    "plt.ylabel(\"Max Temperature (F)\")\n",
    "\n",
    "# Create and plot linear regression\n",
    "(slope, intercept, rvalue, pvalue, stderr) = linregress(southernDF[\"Lat\"],southernDF[\"Max Temp\"])\n",
    "regressValues = (southernDF[\"Lat\"]*slope) + intercept\n",
    "lineEQ = f\"y = {round(slope,2)}x + {round(intercept,2)}\"\n",
    "plt.plot(southernDF[\"Lat\"], regressValues, \"r-\")\n",
    "plt.annotate(lineEQ,(-15,27), fontsize=10, color=\"red\")\n",
    "print(f\"The r-value is {rvalue}\")\n",
    "plt.savefig(\"outputData/SH - Max Temp vs Latitude Regression\")\n",
    "plt.show()"
   ]
  },
  {
   "cell_type": "markdown",
   "metadata": {},
   "source": [
    "The r-value of 0.78 indicates a positive strong correlation. In the southern hemisphere, as you move closer to the equator, the temperature increases."
   ]
  },
  {
   "cell_type": "markdown",
   "metadata": {},
   "source": [
    "####  Northern Hemisphere - Humidity (%) vs. Latitude Linear Regression"
   ]
  },
  {
   "cell_type": "code",
   "execution_count": 34,
   "metadata": {},
   "outputs": [
    {
     "name": "stdout",
     "output_type": "stream",
     "text": [
      "The r-value is 0.02495842509007905\n"
     ]
    },
    {
     "data": {
      "image/png": "[encoded data removed]",
      "text/plain": [
       "<Figure size 432x288 with 1 Axes>"
      ]
     },
     "metadata": {
      "needs_background": "light"
     },
     "output_type": "display_data"
    }
   ],
   "source": [
    "# Create scatter plot\n",
    "plt.scatter(northernDF[\"Lat\"], northernDF[\"Humidity\"], marker=\"o\", facecolors=\"blue\", edgecolors=\"black\")\n",
    "plt.title(\"City Latitude vs. Humidity (07/24/22)\")\n",
    "plt.xlabel(\"Latitude\")\n",
    "plt.ylabel(\"Humidity (%)\")\n",
    "\n",
    "# Create and plot linear regression\n",
    "(slope, intercept, rvalue, pvalue, stderr) = linregress(northernDF[\"Lat\"],northernDF[\"Humidity\"])\n",
    "regressValues = (northernDF[\"Lat\"]*slope) + intercept\n",
    "lineEQ = f\"y = {round(slope,2)}x + {round(intercept,2)}\"\n",
    "plt.plot(northernDF[\"Lat\"], regressValues, \"r-\")\n",
    "plt.annotate(lineEQ,(55,7), fontsize=10, color=\"red\")\n",
    "print(f\"The r-value is {rvalue}\")\n",
    "plt.savefig(\"outputData/NH - Humidity vs Latitude Regression\")\n",
    "plt.show()"
   ]
  },
  {
   "cell_type": "markdown",
   "metadata": {},
   "source": [
    "The very low r-value indicates that there is no correlation between the latitude of a city and the percentage of humidity."
   ]
  },
  {
   "cell_type": "markdown",
   "metadata": {},
   "source": [
    "####  Southern Hemisphere - Humidity (%) vs. Latitude Linear Regression"
   ]
  },
  {
   "cell_type": "code",
   "execution_count": 35,
   "metadata": {},
   "outputs": [
    {
     "name": "stdout",
     "output_type": "stream",
     "text": [
      "The r-value is -0.09240171393449173\n"
     ]
    },
    {
     "data": {
      "image/png": "[encoded data removed]",
      "text/plain": [
       "<Figure size 432x288 with 1 Axes>"
      ]
     },
     "metadata": {
      "needs_background": "light"
     },
     "output_type": "display_data"
    }
   ],
   "source": [
    "# Create scatter plot\n",
    "plt.scatter(southernDF[\"Lat\"], southernDF[\"Humidity\"], marker=\"o\", facecolors=\"blue\", edgecolors=\"black\")\n",
    "plt.title(\"City Latitude vs. Humidity (07/24/22)\")\n",
    "plt.xlabel(\"Latitude\")\n",
    "plt.ylabel(\"Humidity (%)\")\n",
    "\n",
    "# Create and plot linear regression\n",
    "(slope, intercept, rvalue, pvalue, stderr) = linregress(southernDF[\"Lat\"],southernDF[\"Humidity\"])\n",
    "regressValues = (southernDF[\"Lat\"]*slope) + intercept\n",
    "lineEQ = f\"y = {round(slope,2)}x + {round(intercept,2)}\"\n",
    "plt.plot(southernDF[\"Lat\"], regressValues, \"r-\")\n",
    "plt.annotate(lineEQ,(-55,25), fontsize=10, color=\"red\")\n",
    "print(f\"The r-value is {rvalue}\")\n",
    "plt.savefig(\"outputData/SH - Humidity vs Latitude Regression\")\n",
    "plt.show()"
   ]
  },
  {
   "cell_type": "markdown",
   "metadata": {},
   "source": [
    "The very low r-value indicates that there is no correlation between the latitude of a city and the percentage of humidity."
   ]
  },
  {
   "cell_type": "markdown",
   "metadata": {},
   "source": [
    "####  Northern Hemisphere - Cloudiness (%) vs. Latitude Linear Regression"
   ]
  },
  {
   "cell_type": "code",
   "execution_count": 36,
   "metadata": {},
   "outputs": [
    {
     "name": "stdout",
     "output_type": "stream",
     "text": [
      "The r-value is 0.011185552116515628\n"
     ]
    },
    {
     "data": {
      "image/png": "[encoded data removed]",
      "text/plain": [
       "<Figure size 432x288 with 1 Axes>"
      ]
     },
     "metadata": {
      "needs_background": "light"
     },
     "output_type": "display_data"
    }
   ],
   "source": [
    "# Create scatter plot\n",
    "plt.scatter(northernDF[\"Lat\"], northernDF[\"Cloudiness\"], marker=\"o\", facecolors=\"blue\", edgecolors=\"black\")\n",
    "plt.title(\"City Latitude vs. Cloudiness (07/24/22)\")\n",
    "plt.xlabel(\"Latitude\")\n",
    "plt.ylabel(\"Cloudiness (%)\")\n",
    "\n",
    "# Create and plot linear regression\n",
    "(slope, intercept, rvalue, pvalue, stderr) = linregress(northernDF[\"Lat\"],northernDF[\"Cloudiness\"])\n",
    "regressValues = (northernDF[\"Lat\"]*slope) + intercept\n",
    "lineEQ = f\"y = {round(slope,2)}x + {round(intercept,2)}\"\n",
    "plt.plot(northernDF[\"Lat\"], regressValues, \"r-\")\n",
    "plt.annotate(lineEQ,(8,52), fontsize=10, color=\"red\")\n",
    "print(f\"The r-value is {rvalue}\")\n",
    "plt.savefig(\"outputData/NH - Cloudiness vs Latitude Regression\")\n",
    "plt.show()"
   ]
  },
  {
   "cell_type": "markdown",
   "metadata": {},
   "source": [
    "The very low r-value indicates that there is no correlation between the latitude of a city and the percentage of cloudiness."
   ]
  },
  {
   "cell_type": "markdown",
   "metadata": {},
   "source": [
    "####  Southern Hemisphere - Cloudiness (%) vs. Latitude Linear Regression"
   ]
  },
  {
   "cell_type": "code",
   "execution_count": 37,
   "metadata": {},
   "outputs": [
    {
     "name": "stdout",
     "output_type": "stream",
     "text": [
      "The r-value is 0.13686862747602246\n"
     ]
    },
    {
     "data": {
      "image/png": "[encoded data removed]",
      "text/plain": [
       "<Figure size 432x288 with 1 Axes>"
      ]
     },
     "metadata": {
      "needs_background": "light"
     },
     "output_type": "display_data"
    }
   ],
   "source": [
    "# Create scatter plot\n",
    "plt.scatter(southernDF[\"Lat\"], southernDF[\"Cloudiness\"], marker=\"o\", facecolors=\"blue\", edgecolors=\"black\")\n",
    "plt.title(\"City Latitude vs. Cloudiness (07/24/22)\")\n",
    "plt.xlabel(\"Latitude\")\n",
    "plt.ylabel(\"Cloudiness (%)\")\n",
    "\n",
    "# Create and plot linear regression\n",
    "(slope, intercept, rvalue, pvalue, stderr) = linregress(southernDF[\"Lat\"],southernDF[\"Cloudiness\"])\n",
    "regressValues = (southernDF[\"Lat\"]*slope) + intercept\n",
    "lineEQ = f\"y = {round(slope,2)}x + {round(intercept,2)}\"\n",
    "plt.plot(southernDF[\"Lat\"], regressValues, \"r-\")\n",
    "plt.annotate(lineEQ,(-55,0), fontsize=10, color=\"red\")\n",
    "print(f\"The r-value is {rvalue}\")\n",
    "plt.savefig(\"outputData/SH - Cloudiness vs Latitude Regression\")\n",
    "plt.show()"
   ]
  },
  {
   "cell_type": "markdown",
   "metadata": {},
   "source": [
    "The very low r-value indicates that there is no correlation between the latitude of a city and the percentage of cloudiness."
   ]
  },
  {
   "cell_type": "markdown",
   "metadata": {},
   "source": [
    "####  Northern Hemisphere - Wind Speed (mph) vs. Latitude Linear Regression"
   ]
  },
  {
   "cell_type": "code",
   "execution_count": 38,
   "metadata": {},
   "outputs": [
    {
     "name": "stdout",
     "output_type": "stream",
     "text": [
      "The r-value is 0.04533696023400163\n"
     ]
    },
    {
     "data": {
      "image/png": "[encoded data removed]",
      "text/plain": [
       "<Figure size 432x288 with 1 Axes>"
      ]
     },
     "metadata": {
      "needs_background": "light"
     },
     "output_type": "display_data"
    }
   ],
   "source": [
    "# Create scatter plot\n",
    "plt.scatter(northernDF[\"Lat\"], northernDF[\"Wind Speed\"], marker=\"o\", facecolors=\"blue\", edgecolors=\"black\")\n",
    "plt.title(\"City Latitude vs. Wind Speed (07/24/22)\")\n",
    "plt.xlabel(\"Latitude\")\n",
    "plt.ylabel(\"Wind Speed (mph)\")\n",
    "\n",
    "# Create and plot linear regression\n",
    "(slope, intercept, rvalue, pvalue, stderr) = linregress(northernDF[\"Lat\"],northernDF[\"Wind Speed\"])\n",
    "regressValues = (northernDF[\"Lat\"]*slope) + intercept\n",
    "lineEQ = f\"y = {round(slope,2)}x + {round(intercept,2)}\"\n",
    "plt.plot(northernDF[\"Lat\"], regressValues, \"r-\")\n",
    "plt.annotate(lineEQ,(0,29), fontsize=10, color=\"red\")\n",
    "print(f\"The r-value is {rvalue}\")\n",
    "plt.savefig(\"outputData/NH - Wind Speed vs Latitude Regression\")\n",
    "plt.show()"
   ]
  },
  {
   "cell_type": "markdown",
   "metadata": {},
   "source": [
    "The very low r-value indicates that there is no correlation between the latitude of a city and the speed of the wind."
   ]
  },
  {
   "cell_type": "markdown",
   "metadata": {},
   "source": [
    "####  Southern Hemisphere - Wind Speed (mph) vs. Latitude Linear Regression"
   ]
  },
  {
   "cell_type": "code",
   "execution_count": 39,
   "metadata": {},
   "outputs": [
    {
     "name": "stdout",
     "output_type": "stream",
     "text": [
      "The r-value is -0.2153577210328213\n"
     ]
    },
    {
     "data": {
      "image/png": "[encoded data removed]",
      "text/plain": [
       "<Figure size 432x288 with 1 Axes>"
      ]
     },
     "metadata": {
      "needs_background": "light"
     },
     "output_type": "display_data"
    }
   ],
   "source": [
    "# Create scatter plot\n",
    "plt.scatter(southernDF[\"Lat\"], southernDF[\"Wind Speed\"], marker=\"o\", facecolors=\"blue\", edgecolors=\"black\")\n",
    "plt.title(\"City Latitude vs. Wind Speed (07/24/22)\")\n",
    "plt.xlabel(\"Latitude\")\n",
    "plt.ylabel(\"Wind Speed (mph)\")\n",
    "\n",
    "# Create and plot linear regression\n",
    "(slope, intercept, rvalue, pvalue, stderr) = linregress(southernDF[\"Lat\"],southernDF[\"Wind Speed\"])\n",
    "regressValues = (southernDF[\"Lat\"]*slope) + intercept\n",
    "lineEQ = f\"y = {round(slope,2)}x + {round(intercept,2)}\"\n",
    "plt.plot(southernDF[\"Lat\"], regressValues, \"r-\")\n",
    "plt.annotate(lineEQ,(-15,25), fontsize=10, color=\"red\")\n",
    "print(f\"The r-value is {rvalue}\")\n",
    "plt.savefig(\"outputData/SH - Wind Speed vs Latitude Regression\")\n",
    "plt.show()"
   ]
  },
  {
   "cell_type": "markdown",
   "metadata": {},
   "source": [
    "The very low r-value indicates that there is no correlation between the latitude of a city and the speed of the wind."
   ]
  }
 ],
 "metadata": {
  "anaconda-cloud": {},
  "kernel_info": {
   "name": "python3"
  },
  "kernelspec": {
   "display_name": "Python 3 (ipykernel)",
   "language": "python",
   "name": "python3"
  },
  "language_info": {
   "codemirror_mode": {
    "name": "ipython",
    "version": 3
   },
   "file_extension": ".py",
   "mimetype": "text/x-python",
   "name": "python",
   "nbconvert_exporter": "python",
   "pygments_lexer": "ipython3",
   "version": "3.9.7"
  },
  "latex_envs": {
   "LaTeX_envs_menu_present": true,
   "autoclose": false,
   "autocomplete": true,
   "bibliofile": "biblio.bib",
   "cite_by": "apalike",
   "current_citInitial": 1,
   "eqLabelWithNumbers": true,
   "eqNumInitial": 1,
   "hotkeys": {
    "equation": "Ctrl-E",
    "itemize": "Ctrl-I"
   },
   "labels_anchors": false,
   "latex_user_defs": false,
   "report_style_numbering": false,
   "user_envs_cfg": false
  },
  "nteract": {
   "version": "0.12.3"
  }
 },
 "nbformat": 4,
 "nbformat_minor": 2
}
